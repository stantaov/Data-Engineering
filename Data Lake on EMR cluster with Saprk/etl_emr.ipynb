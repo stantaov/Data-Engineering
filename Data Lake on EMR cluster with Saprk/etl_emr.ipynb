{
 "cells": [
  {
   "cell_type": "code",
   "execution_count": 2,
   "metadata": {
    "editable": true
   },
   "outputs": [],
   "source": [
    "# load all libraries\n",
    "import configparser\n",
    "from datetime import datetime\n",
    "import os\n",
    "from pyspark.sql import SparkSession\n",
    "from pyspark.sql.functions import udf, col\n",
    "from pyspark.sql.functions import year, month, dayofmonth, hour, weekofyear, date_format\n",
    "from pyspark.sql.types import *\n",
    "from pyspark.sql.functions import monotonically_increasing_id"
   ]
  },
  {
   "cell_type": "code",
   "execution_count": 3,
   "metadata": {
    "editable": true
   },
   "outputs": [],
   "source": [
    "os.environ['AWS_ACCESS_KEY_ID']='ADD YOUR ACCESS KEY'\n",
    "os.environ['AWS_SECRET_ACCESS_KEY']='ADD YOUR SECRET ACCESS KEY'"
   ]
  },
  {
   "cell_type": "code",
   "execution_count": 3,
   "metadata": {
    "editable": true
   },
   "outputs": [
    {
     "data": {
      "application/vnd.jupyter.widget-view+json": {
       "model_id": "1af08a763d474542bb10a73568816d2a",
       "version_major": 2,
       "version_minor": 0
      },
      "text/plain": [
       "VBox()"
      ]
     },
     "metadata": {},
     "output_type": "display_data"
    },
    {
     "data": {
      "application/vnd.jupyter.widget-view+json": {
       "model_id": "",
       "version_major": 2,
       "version_minor": 0
      },
      "text/plain": [
       "FloatProgress(value=0.0, bar_style='info', description='Progress:', layout=Layout(height='25px', width='50%'),…"
      ]
     },
     "metadata": {},
     "output_type": "display_data"
    }
   ],
   "source": [
    "spark = SparkSession \\\n",
    "    .builder \\\n",
    "    .config(\"spark.jars.packages\", \"org.apache.hadoop:hadoop-aws:2.7.0\") \\\n",
    "    .config(\"spark.hadoop.fs.s3a.impl\",\"org.apache.hadoop.fs.s3a.S3AFileSystem\") \\\n",
    "    .config(\"spark.hadoop.fs.s3a.awsAccessKeyId\", os.environ['AWS_ACCESS_KEY_ID']) \\\n",
    "    .config(\"spark.hadoop.fs.s3a.awsSecretAccessKey\", os.environ['AWS_SECRET_ACCESS_KEY']) \\\n",
    "    .getOrCreate()\n",
    "\n",
    "sc = spark.sparkContext\n",
    "sc._jsc.hadoopConfiguration().set(\"mapreduce.fileoutputcommitter.algorithm.version\", \"2\")\n",
    "sc._jsc.hadoopConfiguration().set(\"spark.speculation\",\"false\")"
   ]
  },
  {
   "cell_type": "code",
   "execution_count": 4,
   "metadata": {
    "editable": true
   },
   "outputs": [
    {
     "data": {
      "application/vnd.jupyter.widget-view+json": {
       "model_id": "8e061cd29643454bb5ffdf6b0949aa39",
       "version_major": 2,
       "version_minor": 0
      },
      "text/plain": [
       "VBox()"
      ]
     },
     "metadata": {},
     "output_type": "display_data"
    },
    {
     "data": {
      "application/vnd.jupyter.widget-view+json": {
       "model_id": "",
       "version_major": 2,
       "version_minor": 0
      },
      "text/plain": [
       "FloatProgress(value=0.0, bar_style='info', description='Progress:', layout=Layout(height='25px', width='50%'),…"
      ]
     },
     "metadata": {},
     "output_type": "display_data"
    },
    {
     "name": "stdout",
     "output_type": "stream",
     "text": [
      "<pyspark.sql.session.SparkSession object at 0x7fc87d40b8d0>"
     ]
    }
   ],
   "source": [
    "spark"
   ]
  },
  {
   "cell_type": "code",
   "execution_count": 121,
   "metadata": {
    "editable": true
   },
   "outputs": [
    {
     "data": {
      "application/vnd.jupyter.widget-view+json": {
       "model_id": "f0e08fe2bee64487a48cc3b16159a72f",
       "version_major": 2,
       "version_minor": 0
      },
      "text/plain": [
       "VBox()"
      ]
     },
     "metadata": {},
     "output_type": "display_data"
    },
    {
     "data": {
      "application/vnd.jupyter.widget-view+json": {
       "model_id": "",
       "version_major": 2,
       "version_minor": 0
      },
      "text/plain": [
       "FloatProgress(value=0.0, bar_style='info', description='Progress:', layout=Layout(height='25px', width='50%'),…"
      ]
     },
     "metadata": {},
     "output_type": "display_data"
    }
   ],
   "source": [
    "schema =  StructType([\n",
    "                        StructField(\"num_songs\", ShortType(), True),\n",
    "                        StructField(\"artist_latitude\", StringType(), True),\n",
    "                        StructField(\"artist_location\", StringType(), True),\n",
    "                        StructField(\"artist_longitude\", StringType(), True),\n",
    "                        StructField(\"artist_name\", StringType(), True),\n",
    "                        StructField(\"song_id\", StringType(), False),\n",
    "                        StructField(\"title\", StringType(), True),\n",
    "                        StructField(\"artist_id\", StringType(), False),\n",
    "                        StructField(\"year\", ShortType(), True),\n",
    "                        StructField(\"duration\", DoubleType(), True)\n",
    "                    ])\n",
    "\n",
    "df_song_data = spark.read.schema(schema).json(\"s3a://udacity-dend/song_data/*/*/*/*.json\")"
   ]
  },
  {
   "cell_type": "code",
   "execution_count": 11,
   "metadata": {
    "editable": true
   },
   "outputs": [
    {
     "data": {
      "application/vnd.jupyter.widget-view+json": {
       "model_id": "ce782c7c2c10451fba878a0276156164",
       "version_major": 2,
       "version_minor": 0
      },
      "text/plain": [
       "VBox()"
      ]
     },
     "metadata": {},
     "output_type": "display_data"
    },
    {
     "data": {
      "application/vnd.jupyter.widget-view+json": {
       "model_id": "",
       "version_major": 2,
       "version_minor": 0
      },
      "text/plain": [
       "FloatProgress(value=0.0, bar_style='info', description='Progress:', layout=Layout(height='25px', width='50%'),…"
      ]
     },
     "metadata": {},
     "output_type": "display_data"
    }
   ],
   "source": [
    "output_data = \"hdfs:///dwh/\""
   ]
  },
  {
   "cell_type": "code",
   "execution_count": 122,
   "metadata": {
    "editable": true
   },
   "outputs": [
    {
     "data": {
      "application/vnd.jupyter.widget-view+json": {
       "model_id": "a38503ee32e342f391a3e93dcee255e5",
       "version_major": 2,
       "version_minor": 0
      },
      "text/plain": [
       "VBox()"
      ]
     },
     "metadata": {},
     "output_type": "display_data"
    },
    {
     "data": {
      "application/vnd.jupyter.widget-view+json": {
       "model_id": "",
       "version_major": 2,
       "version_minor": 0
      },
      "text/plain": [
       "FloatProgress(value=0.0, bar_style='info', description='Progress:', layout=Layout(height='25px', width='50%'),…"
      ]
     },
     "metadata": {},
     "output_type": "display_data"
    }
   ],
   "source": [
    "df_song_data.write.mode('overwrite').parquet(output_data + \"/songs_data/\")"
   ]
  },
  {
   "cell_type": "code",
   "execution_count": 124,
   "metadata": {
    "editable": true
   },
   "outputs": [
    {
     "data": {
      "application/vnd.jupyter.widget-view+json": {
       "model_id": "33e0b75d9ae7448f93c5cee535afc634",
       "version_major": 2,
       "version_minor": 0
      },
      "text/plain": [
       "VBox()"
      ]
     },
     "metadata": {},
     "output_type": "display_data"
    },
    {
     "data": {
      "application/vnd.jupyter.widget-view+json": {
       "model_id": "",
       "version_major": 2,
       "version_minor": 0
      },
      "text/plain": [
       "FloatProgress(value=0.0, bar_style='info', description='Progress:', layout=Layout(height='25px', width='50%'),…"
      ]
     },
     "metadata": {},
     "output_type": "display_data"
    },
    {
     "name": "stdout",
     "output_type": "stream",
     "text": [
      "0"
     ]
    }
   ],
   "source": [
    "os.system(\"s3-dist-cp --src hdfs:///dwh/songs_data --dest s3a://udacity-data-engineering-stan/data/songs_data\")"
   ]
  },
  {
   "cell_type": "code",
   "execution_count": 36,
   "metadata": {
    "editable": true
   },
   "outputs": [
    {
     "data": {
      "application/vnd.jupyter.widget-view+json": {
       "model_id": "6997b560117c44ea8f7d829ed72fb23b",
       "version_major": 2,
       "version_minor": 0
      },
      "text/plain": [
       "VBox()"
      ]
     },
     "metadata": {},
     "output_type": "display_data"
    },
    {
     "data": {
      "application/vnd.jupyter.widget-view+json": {
       "model_id": "",
       "version_major": 2,
       "version_minor": 0
      },
      "text/plain": [
       "FloatProgress(value=0.0, bar_style='info', description='Progress:', layout=Layout(height='25px', width='50%'),…"
      ]
     },
     "metadata": {},
     "output_type": "display_data"
    }
   ],
   "source": [
    "songs_table = df_song_data.select(\"song_id\", \"title\", \"artist_id\", \"year\", \"duration\")"
   ]
  },
  {
   "cell_type": "code",
   "execution_count": 15,
   "metadata": {
    "editable": true
   },
   "outputs": [
    {
     "data": {
      "application/vnd.jupyter.widget-view+json": {
       "model_id": "46c0c59a50f9427f98cb030daeffef32",
       "version_major": 2,
       "version_minor": 0
      },
      "text/plain": [
       "VBox()"
      ]
     },
     "metadata": {},
     "output_type": "display_data"
    },
    {
     "data": {
      "application/vnd.jupyter.widget-view+json": {
       "model_id": "",
       "version_major": 2,
       "version_minor": 0
      },
      "text/plain": [
       "FloatProgress(value=0.0, bar_style='info', description='Progress:', layout=Layout(height='25px', width='50%'),…"
      ]
     },
     "metadata": {},
     "output_type": "display_data"
    }
   ],
   "source": [
    "songs_table.write.mode('overwrite').partitionBy(\"year\", \"artist_id\").parquet(output_data + \"/songs_table/\")"
   ]
  },
  {
   "cell_type": "code",
   "execution_count": 46,
   "metadata": {
    "editable": true
   },
   "outputs": [
    {
     "data": {
      "application/vnd.jupyter.widget-view+json": {
       "model_id": "35038720e3a5498795218d6c91110bc6",
       "version_major": 2,
       "version_minor": 0
      },
      "text/plain": [
       "VBox()"
      ]
     },
     "metadata": {},
     "output_type": "display_data"
    },
    {
     "data": {
      "application/vnd.jupyter.widget-view+json": {
       "model_id": "",
       "version_major": 2,
       "version_minor": 0
      },
      "text/plain": [
       "FloatProgress(value=0.0, bar_style='info', description='Progress:', layout=Layout(height='25px', width='50%'),…"
      ]
     },
     "metadata": {},
     "output_type": "display_data"
    },
    {
     "name": "stdout",
     "output_type": "stream",
     "text": [
      "0"
     ]
    }
   ],
   "source": [
    "os.system(\"s3-dist-cp --src hdfs:///dwh/songs_table --dest s3a://udacity-data-engineering-stan/data/songs_table\")"
   ]
  },
  {
   "cell_type": "code",
   "execution_count": 39,
   "metadata": {
    "editable": true
   },
   "outputs": [
    {
     "data": {
      "application/vnd.jupyter.widget-view+json": {
       "model_id": "738db3f59b394df694344edb34b87116",
       "version_major": 2,
       "version_minor": 0
      },
      "text/plain": [
       "VBox()"
      ]
     },
     "metadata": {},
     "output_type": "display_data"
    },
    {
     "data": {
      "application/vnd.jupyter.widget-view+json": {
       "model_id": "",
       "version_major": 2,
       "version_minor": 0
      },
      "text/plain": [
       "FloatProgress(value=0.0, bar_style='info', description='Progress:', layout=Layout(height='25px', width='50%'),…"
      ]
     },
     "metadata": {},
     "output_type": "display_data"
    }
   ],
   "source": [
    "artists_table = df_song_data.select(\"artist_id\", \"artist_name\", \"artist_location\", \"artist_latitude\", \"artist_longitude\")"
   ]
  },
  {
   "cell_type": "code",
   "execution_count": 40,
   "metadata": {
    "editable": true
   },
   "outputs": [
    {
     "data": {
      "application/vnd.jupyter.widget-view+json": {
       "model_id": "408bb5e0626840f2915dce1a565299db",
       "version_major": 2,
       "version_minor": 0
      },
      "text/plain": [
       "VBox()"
      ]
     },
     "metadata": {},
     "output_type": "display_data"
    },
    {
     "data": {
      "application/vnd.jupyter.widget-view+json": {
       "model_id": "",
       "version_major": 2,
       "version_minor": 0
      },
      "text/plain": [
       "FloatProgress(value=0.0, bar_style='info', description='Progress:', layout=Layout(height='25px', width='50%'),…"
      ]
     },
     "metadata": {},
     "output_type": "display_data"
    }
   ],
   "source": [
    "artists_table.write.mode('overwrite').parquet(output_data + \"/artists_table/\")"
   ]
  },
  {
   "cell_type": "code",
   "execution_count": 41,
   "metadata": {
    "editable": true
   },
   "outputs": [
    {
     "data": {
      "application/vnd.jupyter.widget-view+json": {
       "model_id": "479511ca6fda4a31931130805a7bc58c",
       "version_major": 2,
       "version_minor": 0
      },
      "text/plain": [
       "VBox()"
      ]
     },
     "metadata": {},
     "output_type": "display_data"
    },
    {
     "data": {
      "application/vnd.jupyter.widget-view+json": {
       "model_id": "",
       "version_major": 2,
       "version_minor": 0
      },
      "text/plain": [
       "FloatProgress(value=0.0, bar_style='info', description='Progress:', layout=Layout(height='25px', width='50%'),…"
      ]
     },
     "metadata": {},
     "output_type": "display_data"
    },
    {
     "name": "stdout",
     "output_type": "stream",
     "text": [
      "0"
     ]
    }
   ],
   "source": [
    "os.system(\"s3-dist-cp --src hdfs:///dwh/artists_table --dest s3a://udacity-data-engineering-stan/data/artists_table\")"
   ]
  },
  {
   "cell_type": "code",
   "execution_count": 88,
   "metadata": {
    "editable": true
   },
   "outputs": [
    {
     "data": {
      "application/vnd.jupyter.widget-view+json": {
       "model_id": "2d6acd48d2024ac683d0c754211f7d00",
       "version_major": 2,
       "version_minor": 0
      },
      "text/plain": [
       "VBox()"
      ]
     },
     "metadata": {},
     "output_type": "display_data"
    },
    {
     "data": {
      "application/vnd.jupyter.widget-view+json": {
       "model_id": "",
       "version_major": 2,
       "version_minor": 0
      },
      "text/plain": [
       "FloatProgress(value=0.0, bar_style='info', description='Progress:', layout=Layout(height='25px', width='50%'),…"
      ]
     },
     "metadata": {},
     "output_type": "display_data"
    }
   ],
   "source": [
    "# create schema and read log data file\n",
    "    \n",
    "schema =  StructType([\n",
    "                        StructField(\"artist\", StringType(), True),\n",
    "                        StructField(\"auth\", StringType(), True),\n",
    "                        StructField(\"firstName\", StringType(), True),\n",
    "                        StructField(\"gender\", StringType(), True),\n",
    "                        StructField(\"itemInSession\", ShortType(), True),\n",
    "                        StructField(\"lastName\", StringType(), True),\n",
    "                        StructField(\"length\", StringType(), True),\n",
    "                        StructField(\"level\", StringType(), True),\n",
    "                        StructField(\"location\", StringType(), True),\n",
    "                        StructField(\"method\", StringType(), True),\n",
    "                        StructField(\"page\", StringType(), True),\n",
    "                        StructField(\"registration\", StringType(), True),\n",
    "                        StructField(\"sessionId\", ShortType(), False),\n",
    "                        StructField(\"song\", StringType(), True),\n",
    "                        StructField(\"status\", StringType(), True),\n",
    "                        StructField(\"ts\", DoubleType(), True),\n",
    "                        StructField(\"userAgent\", StringType(), True),\n",
    "                        StructField(\"userId\", StringType(), False)\n",
    "                    ])\n",
    "\n",
    "df_log_data = spark.read.schema(schema).json(\"s3a://udacity-dend/log_data/*/*/*.json\")"
   ]
  },
  {
   "cell_type": "code",
   "execution_count": 89,
   "metadata": {
    "editable": true
   },
   "outputs": [
    {
     "data": {
      "application/vnd.jupyter.widget-view+json": {
       "model_id": "5bf0280a131148b9ab3f27657bcf0399",
       "version_major": 2,
       "version_minor": 0
      },
      "text/plain": [
       "VBox()"
      ]
     },
     "metadata": {},
     "output_type": "display_data"
    },
    {
     "data": {
      "application/vnd.jupyter.widget-view+json": {
       "model_id": "",
       "version_major": 2,
       "version_minor": 0
      },
      "text/plain": [
       "FloatProgress(value=0.0, bar_style='info', description='Progress:', layout=Layout(height='25px', width='50%'),…"
      ]
     },
     "metadata": {},
     "output_type": "display_data"
    }
   ],
   "source": [
    "df_log_data = df_log_data.where(df_log_data.page == \"NextSong\")"
   ]
  },
  {
   "cell_type": "code",
   "execution_count": 90,
   "metadata": {
    "editable": true
   },
   "outputs": [
    {
     "data": {
      "application/vnd.jupyter.widget-view+json": {
       "model_id": "8f3e08a9665d4c8e82fba08dd1fc7b9f",
       "version_major": 2,
       "version_minor": 0
      },
      "text/plain": [
       "VBox()"
      ]
     },
     "metadata": {},
     "output_type": "display_data"
    },
    {
     "data": {
      "application/vnd.jupyter.widget-view+json": {
       "model_id": "",
       "version_major": 2,
       "version_minor": 0
      },
      "text/plain": [
       "FloatProgress(value=0.0, bar_style='info', description='Progress:', layout=Layout(height='25px', width='50%'),…"
      ]
     },
     "metadata": {},
     "output_type": "display_data"
    },
    {
     "name": "stdout",
     "output_type": "stream",
     "text": [
      "+--------------------+----------+---------+------+-------------+--------+---------+-----+--------------------+------+--------+-----------------+---------+--------------------+------+-----------------+--------------------+------+\n",
      "|              artist|      auth|firstName|gender|itemInSession|lastName|   length|level|            location|method|    page|     registration|sessionId|                song|status|               ts|           userAgent|userId|\n",
      "+--------------------+----------+---------+------+-------------+--------+---------+-----+--------------------+------+--------+-----------------+---------+--------------------+------+-----------------+--------------------+------+\n",
      "|            Harmonia| Logged In|     Ryan|     M|            0|   Smith|655.77751| free|San Jose-Sunnyval...|   PUT|NextSong|1.541016707796E12|      583|       Sehr kosmisch|   200|1.542241826796E12|\"Mozilla/5.0 (X11...|    26|\n",
      "|         The Prodigy| Logged In|     Ryan|     M|            1|   Smith|260.07465| free|San Jose-Sunnyval...|   PUT|NextSong|1.541016707796E12|      583|     The Big Gundown|   200|1.542242481796E12|\"Mozilla/5.0 (X11...|    26|\n",
      "|               Train| Logged In|     Ryan|     M|            2|   Smith|205.45261| free|San Jose-Sunnyval...|   PUT|NextSong|1.541016707796E12|      583|            Marry Me|   200|1.542242741796E12|\"Mozilla/5.0 (X11...|    26|\n",
      "|                null| Logged In|    Wyatt|     M|            0|   Scott|     null| free|Eureka-Arcata-For...|   GET|    Home|1.540872073796E12|      563|                null|   200|1.542247071796E12|Mozilla/5.0 (Wind...|     9|\n",
      "|                null| Logged In|   Austin|     M|            0| Rosales|     null| free|New York-Newark-J...|   GET|    Home|1.541059521796E12|      521|                null|   200|1.542252577796E12|Mozilla/5.0 (Wind...|    12|\n",
      "|         Sony Wonder| Logged In|   Samuel|     M|            0|Gonzalez|218.06975| free|Houston-The Woodl...|   PUT|NextSong|1.540492941796E12|      597|           Blackbird|   200|1.542253449796E12|\"Mozilla/5.0 (Mac...|    61|\n",
      "|                null| Logged In|   Samuel|     M|            1|Gonzalez|     null| free|Houston-The Woodl...|   GET|   About|1.540492941796E12|      597|                null|   200|1.542253460796E12|\"Mozilla/5.0 (Mac...|    61|\n",
      "|                null|Logged Out|     null|  null|            0|    null|     null| paid|                null|   PUT|   Login|             null|      602|                null|   307|1.542260074796E12|                null|      |\n",
      "|                null| Logged In|    Tegan|     F|            1|  Levine|     null| paid|Portland-South Po...|   GET|    Home|1.540794356796E12|      602|                null|   200|1.542260277796E12|\"Mozilla/5.0 (Mac...|    80|\n",
      "|           Van Halen| Logged In|    Tegan|     F|            2|  Levine|289.38404| paid|Portland-South Po...|   PUT|NextSong|1.540794356796E12|      602|Best Of Both Worl...|   200|1.542260935796E12|\"Mozilla/5.0 (Mac...|    80|\n",
      "|           Magic Sam| Logged In|    Tegan|     F|            3|  Levine|132.04853| paid|Portland-South Po...|   PUT|NextSong|1.540794356796E12|      602|Call Me If You Ne...|   200|1.542261224796E12|\"Mozilla/5.0 (Mac...|    80|\n",
      "|Edward Sharpe & T...| Logged In|    Tegan|     F|            4|  Levine|306.31138| paid|Portland-South Po...|   PUT|NextSong|1.540794356796E12|      602|                Home|   200|1.542261356796E12|\"Mozilla/5.0 (Mac...|    80|\n",
      "|Usher featuring w...| Logged In|    Tegan|     F|            5|  Levine|395.72853| paid|Portland-South Po...|   PUT|NextSong|1.540794356796E12|      602|                 OMG|   200|1.542261662796E12|\"Mozilla/5.0 (Mac...|    80|\n",
      "|                null| Logged In|    Tegan|     F|            6|  Levine|     null| paid|Portland-South Po...|   GET|    Home|1.540794356796E12|      602|                null|   200|1.542261713796E12|\"Mozilla/5.0 (Mac...|    80|\n",
      "|         Helen Reddy| Logged In|    Tegan|     F|            7|  Levine|176.50893| paid|Portland-South Po...|   PUT|NextSong|1.540794356796E12|      602| Candle On The Water|   200|1.542262057796E12|\"Mozilla/5.0 (Mac...|    80|\n",
      "|        Taylor Swift| Logged In|    Tegan|     F|            8|  Levine|201.06404| paid|Portland-South Po...|   PUT|NextSong|1.540794356796E12|      602|            Our Song|   200|1.542262233796E12|\"Mozilla/5.0 (Mac...|    80|\n",
      "|           Sean Paul| Logged In|    Tegan|     F|            9|  Levine|245.34159| paid|Portland-South Po...|   PUT|NextSong|1.540794356796E12|      602|Baby Boy [feat. B...|   200|1.542262434796E12|\"Mozilla/5.0 (Mac...|    80|\n",
      "|         Soundgarden| Logged In|     Lily|     F|            0|    Koch|272.19546| paid|Chicago-Napervill...|   PUT|NextSong|1.541048010796E12|      582|      Black Hole Sun|   200|1.542262456796E12|\"Mozilla/5.0 (X11...|    15|\n",
      "|         The Killers| Logged In|    Tegan|     F|           10|  Levine|360.75057| paid|Portland-South Po...|   PUT|NextSong|1.540794356796E12|      602|               Human|   200|1.542262679796E12|\"Mozilla/5.0 (Mac...|    80|\n",
      "|       Amy Winehouse| Logged In|     Lily|     F|            1|    Koch|165.11955| paid|Chicago-Napervill...|   PUT|NextSong|1.541048010796E12|      582|            Addicted|   200|1.542262728796E12|\"Mozilla/5.0 (X11...|    15|\n",
      "+--------------------+----------+---------+------+-------------+--------+---------+-----+--------------------+------+--------+-----------------+---------+--------------------+------+-----------------+--------------------+------+\n",
      "only showing top 20 rows"
     ]
    }
   ],
   "source": [
    "df_log.show()"
   ]
  },
  {
   "cell_type": "code",
   "execution_count": 93,
   "metadata": {
    "editable": true
   },
   "outputs": [
    {
     "data": {
      "application/vnd.jupyter.widget-view+json": {
       "model_id": "af93d4bc355b4cbeb110bf666b106e16",
       "version_major": 2,
       "version_minor": 0
      },
      "text/plain": [
       "VBox()"
      ]
     },
     "metadata": {},
     "output_type": "display_data"
    },
    {
     "data": {
      "application/vnd.jupyter.widget-view+json": {
       "model_id": "",
       "version_major": 2,
       "version_minor": 0
      },
      "text/plain": [
       "FloatProgress(value=0.0, bar_style='info', description='Progress:', layout=Layout(height='25px', width='50%'),…"
      ]
     },
     "metadata": {},
     "output_type": "display_data"
    }
   ],
   "source": [
    "users_table = df_log_data.select(\"userId\", \"firstName\", \"lastName\", \"gender\", \"level\").distinct()"
   ]
  },
  {
   "cell_type": "code",
   "execution_count": 94,
   "metadata": {
    "editable": true
   },
   "outputs": [
    {
     "data": {
      "application/vnd.jupyter.widget-view+json": {
       "model_id": "efbd7d6f879e45528ffef05335f80903",
       "version_major": 2,
       "version_minor": 0
      },
      "text/plain": [
       "VBox()"
      ]
     },
     "metadata": {},
     "output_type": "display_data"
    },
    {
     "data": {
      "application/vnd.jupyter.widget-view+json": {
       "model_id": "",
       "version_major": 2,
       "version_minor": 0
      },
      "text/plain": [
       "FloatProgress(value=0.0, bar_style='info', description='Progress:', layout=Layout(height='25px', width='50%'),…"
      ]
     },
     "metadata": {},
     "output_type": "display_data"
    }
   ],
   "source": [
    "users_table.write.mode('overwrite').partitionBy(\"gender\", \"level\").parquet(output_data + \"/users_table/\")"
   ]
  },
  {
   "cell_type": "code",
   "execution_count": 95,
   "metadata": {
    "editable": true
   },
   "outputs": [
    {
     "data": {
      "application/vnd.jupyter.widget-view+json": {
       "model_id": "5a6bfcaef2314122ba72da469c7e1ce5",
       "version_major": 2,
       "version_minor": 0
      },
      "text/plain": [
       "VBox()"
      ]
     },
     "metadata": {},
     "output_type": "display_data"
    },
    {
     "data": {
      "application/vnd.jupyter.widget-view+json": {
       "model_id": "",
       "version_major": 2,
       "version_minor": 0
      },
      "text/plain": [
       "FloatProgress(value=0.0, bar_style='info', description='Progress:', layout=Layout(height='25px', width='50%'),…"
      ]
     },
     "metadata": {},
     "output_type": "display_data"
    },
    {
     "name": "stdout",
     "output_type": "stream",
     "text": [
      "0"
     ]
    }
   ],
   "source": [
    "os.system(\"s3-dist-cp --src hdfs:///dwh/users_table --dest s3a://udacity-data-engineering-stan/data/users_table\")"
   ]
  },
  {
   "cell_type": "code",
   "execution_count": 96,
   "metadata": {
    "editable": true
   },
   "outputs": [
    {
     "data": {
      "application/vnd.jupyter.widget-view+json": {
       "model_id": "6b5cb36973cc4e8cb681e5fdf8806c09",
       "version_major": 2,
       "version_minor": 0
      },
      "text/plain": [
       "VBox()"
      ]
     },
     "metadata": {},
     "output_type": "display_data"
    },
    {
     "data": {
      "application/vnd.jupyter.widget-view+json": {
       "model_id": "",
       "version_major": 2,
       "version_minor": 0
      },
      "text/plain": [
       "FloatProgress(value=0.0, bar_style='info', description='Progress:', layout=Layout(height='25px', width='50%'),…"
      ]
     },
     "metadata": {},
     "output_type": "display_data"
    }
   ],
   "source": [
    "get_timestamp = udf(lambda x: datetime.fromtimestamp((int(x)/1000.0)), TimestampType())\n",
    "df_log_data = df_log_data.withColumn('timestamp', get_timestamp(df_log_data.ts))"
   ]
  },
  {
   "cell_type": "code",
   "execution_count": 108,
   "metadata": {
    "editable": true
   },
   "outputs": [
    {
     "data": {
      "application/vnd.jupyter.widget-view+json": {
       "model_id": "eef34d2c5a854f96b4f6067e4820c0e0",
       "version_major": 2,
       "version_minor": 0
      },
      "text/plain": [
       "VBox()"
      ]
     },
     "metadata": {},
     "output_type": "display_data"
    },
    {
     "data": {
      "application/vnd.jupyter.widget-view+json": {
       "model_id": "",
       "version_major": 2,
       "version_minor": 0
      },
      "text/plain": [
       "FloatProgress(value=0.0, bar_style='info', description='Progress:', layout=Layout(height='25px', width='50%'),…"
      ]
     },
     "metadata": {},
     "output_type": "display_data"
    }
   ],
   "source": [
    "df_log_data = df_log_data.withColumn('start_time', date_format(\"timestamp\", 'HH:mm:ss'))\\\n",
    "        .withColumn('hour', hour(\"timestamp\"))\\\n",
    "        .withColumn('day', dayofmonth(\"timestamp\"))\\\n",
    "        .withColumn('week', weekofyear(\"timestamp\"))\\\n",
    "        .withColumn('month', month(\"timestamp\"))\\\n",
    "        .withColumn('year', year(\"timestamp\"))\\\n",
    "        .withColumn('weekday', date_format('timestamp', 'E'))"
   ]
  },
  {
   "cell_type": "code",
   "execution_count": 113,
   "metadata": {
    "editable": true
   },
   "outputs": [
    {
     "data": {
      "application/vnd.jupyter.widget-view+json": {
       "model_id": "b437d7072507464abab7228025b90644",
       "version_major": 2,
       "version_minor": 0
      },
      "text/plain": [
       "VBox()"
      ]
     },
     "metadata": {},
     "output_type": "display_data"
    },
    {
     "data": {
      "application/vnd.jupyter.widget-view+json": {
       "model_id": "",
       "version_major": 2,
       "version_minor": 0
      },
      "text/plain": [
       "FloatProgress(value=0.0, bar_style='info', description='Progress:', layout=Layout(height='25px', width='50%'),…"
      ]
     },
     "metadata": {},
     "output_type": "display_data"
    }
   ],
   "source": [
    "df_log_data.write.mode('overwrite').parquet(output_data + \"/log_data/\")"
   ]
  },
  {
   "cell_type": "code",
   "execution_count": 114,
   "metadata": {
    "editable": true
   },
   "outputs": [
    {
     "data": {
      "application/vnd.jupyter.widget-view+json": {
       "model_id": "6f7102e8639d476ba1471121fff0088b",
       "version_major": 2,
       "version_minor": 0
      },
      "text/plain": [
       "VBox()"
      ]
     },
     "metadata": {},
     "output_type": "display_data"
    },
    {
     "data": {
      "application/vnd.jupyter.widget-view+json": {
       "model_id": "",
       "version_major": 2,
       "version_minor": 0
      },
      "text/plain": [
       "FloatProgress(value=0.0, bar_style='info', description='Progress:', layout=Layout(height='25px', width='50%'),…"
      ]
     },
     "metadata": {},
     "output_type": "display_data"
    },
    {
     "name": "stdout",
     "output_type": "stream",
     "text": [
      "0"
     ]
    }
   ],
   "source": [
    "os.system(\"s3-dist-cp --src hdfs:///dwh/log_data --dest s3a://udacity-data-engineering-stan/data/log_data\")"
   ]
  },
  {
   "cell_type": "code",
   "execution_count": 98,
   "metadata": {
    "editable": true
   },
   "outputs": [
    {
     "data": {
      "application/vnd.jupyter.widget-view+json": {
       "model_id": "26f3c6c6944e4f51b2ee26cf6b67abe1",
       "version_major": 2,
       "version_minor": 0
      },
      "text/plain": [
       "VBox()"
      ]
     },
     "metadata": {},
     "output_type": "display_data"
    },
    {
     "data": {
      "application/vnd.jupyter.widget-view+json": {
       "model_id": "",
       "version_major": 2,
       "version_minor": 0
      },
      "text/plain": [
       "FloatProgress(value=0.0, bar_style='info', description='Progress:', layout=Layout(height='25px', width='50%'),…"
      ]
     },
     "metadata": {},
     "output_type": "display_data"
    }
   ],
   "source": [
    "time_table = df_log_data.select(\"start_time\", \"hour\", \"day\", \"week\", \"month\", \"year\", \"weekday\").distinct()"
   ]
  },
  {
   "cell_type": "code",
   "execution_count": 99,
   "metadata": {
    "editable": true
   },
   "outputs": [
    {
     "data": {
      "application/vnd.jupyter.widget-view+json": {
       "model_id": "c508a4e72c8946aba86b097cba8a0158",
       "version_major": 2,
       "version_minor": 0
      },
      "text/plain": [
       "VBox()"
      ]
     },
     "metadata": {},
     "output_type": "display_data"
    },
    {
     "data": {
      "application/vnd.jupyter.widget-view+json": {
       "model_id": "",
       "version_major": 2,
       "version_minor": 0
      },
      "text/plain": [
       "FloatProgress(value=0.0, bar_style='info', description='Progress:', layout=Layout(height='25px', width='50%'),…"
      ]
     },
     "metadata": {},
     "output_type": "display_data"
    }
   ],
   "source": [
    "time_table.write.mode('overwrite').partitionBy(\"year\", \"month\").parquet(output_data + \"/time_table/\")"
   ]
  },
  {
   "cell_type": "code",
   "execution_count": 100,
   "metadata": {
    "editable": true
   },
   "outputs": [
    {
     "data": {
      "application/vnd.jupyter.widget-view+json": {
       "model_id": "7f10f77356f84666b3776163cfcbe8b6",
       "version_major": 2,
       "version_minor": 0
      },
      "text/plain": [
       "VBox()"
      ]
     },
     "metadata": {},
     "output_type": "display_data"
    },
    {
     "data": {
      "application/vnd.jupyter.widget-view+json": {
       "model_id": "",
       "version_major": 2,
       "version_minor": 0
      },
      "text/plain": [
       "FloatProgress(value=0.0, bar_style='info', description='Progress:', layout=Layout(height='25px', width='50%'),…"
      ]
     },
     "metadata": {},
     "output_type": "display_data"
    },
    {
     "name": "stdout",
     "output_type": "stream",
     "text": [
      "0"
     ]
    }
   ],
   "source": [
    "os.system(\"s3-dist-cp --src hdfs:///dwh/time_table --dest s3a://udacity-data-engineering-stan/data/time_table\")"
   ]
  },
  {
   "cell_type": "code",
   "execution_count": 129,
   "metadata": {
    "editable": true
   },
   "outputs": [
    {
     "data": {
      "application/vnd.jupyter.widget-view+json": {
       "model_id": "193581c3f0104f9d8b61292f4c51ec00",
       "version_major": 2,
       "version_minor": 0
      },
      "text/plain": [
       "VBox()"
      ]
     },
     "metadata": {},
     "output_type": "display_data"
    },
    {
     "data": {
      "application/vnd.jupyter.widget-view+json": {
       "model_id": "",
       "version_major": 2,
       "version_minor": 0
      },
      "text/plain": [
       "FloatProgress(value=0.0, bar_style='info', description='Progress:', layout=Layout(height='25px', width='50%'),…"
      ]
     },
     "metadata": {},
     "output_type": "display_data"
    }
   ],
   "source": [
    "songs_df = spark.read.parquet(output_data + 'songs_data')"
   ]
  },
  {
   "cell_type": "code",
   "execution_count": 130,
   "metadata": {
    "editable": true
   },
   "outputs": [
    {
     "data": {
      "application/vnd.jupyter.widget-view+json": {
       "model_id": "7678fc5ab3944bf9bb83fa19570843b8",
       "version_major": 2,
       "version_minor": 0
      },
      "text/plain": [
       "VBox()"
      ]
     },
     "metadata": {},
     "output_type": "display_data"
    },
    {
     "data": {
      "application/vnd.jupyter.widget-view+json": {
       "model_id": "",
       "version_major": 2,
       "version_minor": 0
      },
      "text/plain": [
       "FloatProgress(value=0.0, bar_style='info', description='Progress:', layout=Layout(height='25px', width='50%'),…"
      ]
     },
     "metadata": {},
     "output_type": "display_data"
    },
    {
     "name": "stdout",
     "output_type": "stream",
     "text": [
      "+---------+---------------+--------------------+----------------+--------------------+------------------+--------------------+------------------+----+----------+\n",
      "|num_songs|artist_latitude|     artist_location|artist_longitude|         artist_name|           song_id|               title|         artist_id|year|  duration|\n",
      "+---------+---------------+--------------------+----------------+--------------------+------------------+--------------------+------------------+----+----------+\n",
      "|        1|       63.96027|<a href=\"http://b...|        10.22442|          Billy Idol|SOVIYJY12AF72A4B00|The Dead Next Doo...|AR4T2IF1187B9ADBB7|1983| 233.22077|\n",
      "|        1|       63.96027|<a href=\"http://b...|        10.22442|          Billy Idol|SOVYXYL12AF72A3373|Rebel Yell (1999 ...|AR4T2IF1187B9ADBB7|1983| 287.92118|\n",
      "|        1|           null|                    |            null|Yvonne S. Moriart...|SOEPTVC12A67ADD0DA|To Zucchabar [\"Gl...|ARQ846I1187B9A7083|   0| 196.04853|\n",
      "|        1|       63.96027|<a href=\"http://b...|        10.22442|          Billy Idol|SOLQYSZ12AB0181F97|    Mony Mony (Live)|AR4T2IF1187B9ADBB7|1987| 247.53587|\n",
      "|        1|           null|                    |            null|Russell Watson / ...|SOVPFJK12A6701CB16|Barcelona - (Frie...|AR3TZ691187FB3DBB1|2000| 273.44934|\n",
      "|        1|       63.96027|<a href=\"http://b...|        10.22442|          Billy Idol|SOETDBF12A81C20BC0|       Body Snatcher|AR4T2IF1187B9ADBB7|2005| 237.06077|\n",
      "|        1|       63.96027|<a href=\"http://b...|        10.22442|          Billy Idol|SOIEXLS12A6D4F792F|           Shangrila|AR4T2IF1187B9ADBB7|1993| 443.14077|\n",
      "|        1|           null|                    |            null|Alfredo Kraus/Tat...|SOQEBML12A8C136AA4|Werther (1997 Dig...|AR5R7791187FB3A8C3|   0|  55.40526|\n",
      "|        1|       34.05349|     Los Angeles, CA|      -118.24532|        Red Sparowes|SOTCIHX12A8C13DDD2|Finally_ as that ...|ARYOIZG1187FB41E30|2006| 483.34322|\n",
      "|        1|           null|                    |            null|         All Leather|SODUMDU12AC468A22B|We're Skrewed (Ot...|ARHOSMU1242078130D|   0|  249.5473|\n",
      "|        1|           null|                    |            null|Robert Donat/Phil...|SOPSXLI12A6D4FA418|Practical Cats - ...|ARR79V31187FB5B96E|   0| 251.03628|\n",
      "|        1|       59.93274|St. Petersburg, R...|        30.30672|Dmitri Shostakovi...|SOLLALT12A8C1399F3|Piano Concerto No...|ARWMEJW11F4C83C123|   0| 319.37261|\n",
      "|        1|           null|     Lajatico, Italy|            null|Andrea Bocelli / ...|SOKUATC12AB01853F3|Turandot: Nessun ...|ARV481W1187FB38CD9|1997| 191.13751|\n",
      "|        1|       38.83179|             Lefkada|        20.70796|Agnes Baltsa/Mire...|SOIGELY12A6D4F65C6|Aida (1986 Digita...|ARXLQYU11F4C83E050|   0| 345.25995|\n",
      "|        1|       35.83073|           Tennessee|       -85.97874|Royal Philharmoni...|SOBTCUI12A8AE48B70|Faust: Ballet Mus...|ARSUVLW12454A4C8B8|   0|  94.56281|\n",
      "|        1|           null|        LaGrange, GA|            null|Bubba Sparxxx fea...|SOHPSTY12A6D4F719C|Ms. New Booty (Ed...|ARJYD111187FB3AC15|   0| 252.52526|\n",
      "|        1|           null|                    |            null|Rolando Villazon/...|SONVWOX12A8C137FF5|Le Roi de Lahore_...|ARIDEBJ1187B9A3754|   0| 250.48771|\n",
      "|        1|           null|   Oklahoma City, OK|            null|    The Flaming Lips|SOQYHYG12AB017CF0B|The Horrors Of Is...|ARNVCB81187B9ACBDF|2004| 279.95383|\n",
      "|        1|           null|                    |            null|Martha Argerich/R...|SOMDBLQ12A6D4F8B72|Quartet for Piano...|AREVPHS1187FB3B6EB|   0| 496.53506|\n",
      "|        1|       35.83073|           Tennessee|       -85.97874|Royal Philharmoni...|SOAZUNV12A8C13923B|A Faust Symphony ...|ARSUVLW12454A4C8B8|   0|1237.86404|\n",
      "+---------+---------------+--------------------+----------------+--------------------+------------------+--------------------+------------------+----+----------+\n",
      "only showing top 20 rows"
     ]
    }
   ],
   "source": [
    "songs_df.show()"
   ]
  },
  {
   "cell_type": "code",
   "execution_count": null,
   "metadata": {
    "editable": true
   },
   "outputs": [],
   "source": [
    "songs_df_small = songs_df.select(\"num_songs\", \"title\", \"artist_id\", \"duration\", \"artist_name\", \"song_id\")"
   ]
  },
  {
   "cell_type": "code",
   "execution_count": 115,
   "metadata": {
    "editable": true
   },
   "outputs": [
    {
     "data": {
      "application/vnd.jupyter.widget-view+json": {
       "model_id": "e2725852c615413cba92abbdeea7e34f",
       "version_major": 2,
       "version_minor": 0
      },
      "text/plain": [
       "VBox()"
      ]
     },
     "metadata": {},
     "output_type": "display_data"
    },
    {
     "data": {
      "application/vnd.jupyter.widget-view+json": {
       "model_id": "",
       "version_major": 2,
       "version_minor": 0
      },
      "text/plain": [
       "FloatProgress(value=0.0, bar_style='info', description='Progress:', layout=Layout(height='25px', width='50%'),…"
      ]
     },
     "metadata": {},
     "output_type": "display_data"
    }
   ],
   "source": [
    "log_df = spark.read.parquet(output_data + 'log_data/*')"
   ]
  },
  {
   "cell_type": "code",
   "execution_count": 116,
   "metadata": {
    "editable": true
   },
   "outputs": [
    {
     "data": {
      "application/vnd.jupyter.widget-view+json": {
       "model_id": "3df45a57ac9d489386af9ffa483650d2",
       "version_major": 2,
       "version_minor": 0
      },
      "text/plain": [
       "VBox()"
      ]
     },
     "metadata": {},
     "output_type": "display_data"
    },
    {
     "data": {
      "application/vnd.jupyter.widget-view+json": {
       "model_id": "",
       "version_major": 2,
       "version_minor": 0
      },
      "text/plain": [
       "FloatProgress(value=0.0, bar_style='info', description='Progress:', layout=Layout(height='25px', width='50%'),…"
      ]
     },
     "metadata": {},
     "output_type": "display_data"
    },
    {
     "name": "stdout",
     "output_type": "stream",
     "text": [
      "+--------------------+---------+---------+------+-------------+--------+---------+-----+--------------------+------+--------+-----------------+---------+--------------------+------+-----------------+--------------------+------+--------------------+----------+----+---+----+-----+----+-------+\n",
      "|              artist|     auth|firstName|gender|itemInSession|lastName|   length|level|            location|method|    page|     registration|sessionId|                song|status|               ts|           userAgent|userId|           timestamp|start_time|hour|day|week|month|year|weekday|\n",
      "+--------------------+---------+---------+------+-------------+--------+---------+-----+--------------------+------+--------+-----------------+---------+--------------------+------+-----------------+--------------------+------+--------------------+----------+----+---+----+-----+----+-------+\n",
      "|            Harmonia|Logged In|     Ryan|     M|            0|   Smith|655.77751| free|San Jose-Sunnyval...|   PUT|NextSong|1.541016707796E12|      583|       Sehr kosmisch|   200|1.542241826796E12|\"Mozilla/5.0 (X11...|    26|2018-11-15 00:30:...|  00:30:26|   0| 15|  46|   11|2018|    Thu|\n",
      "|         The Prodigy|Logged In|     Ryan|     M|            1|   Smith|260.07465| free|San Jose-Sunnyval...|   PUT|NextSong|1.541016707796E12|      583|     The Big Gundown|   200|1.542242481796E12|\"Mozilla/5.0 (X11...|    26|2018-11-15 00:41:...|  00:41:21|   0| 15|  46|   11|2018|    Thu|\n",
      "|               Train|Logged In|     Ryan|     M|            2|   Smith|205.45261| free|San Jose-Sunnyval...|   PUT|NextSong|1.541016707796E12|      583|            Marry Me|   200|1.542242741796E12|\"Mozilla/5.0 (X11...|    26|2018-11-15 00:45:...|  00:45:41|   0| 15|  46|   11|2018|    Thu|\n",
      "|         Sony Wonder|Logged In|   Samuel|     M|            0|Gonzalez|218.06975| free|Houston-The Woodl...|   PUT|NextSong|1.540492941796E12|      597|           Blackbird|   200|1.542253449796E12|\"Mozilla/5.0 (Mac...|    61|2018-11-15 03:44:...|  03:44:09|   3| 15|  46|   11|2018|    Thu|\n",
      "|           Van Halen|Logged In|    Tegan|     F|            2|  Levine|289.38404| paid|Portland-South Po...|   PUT|NextSong|1.540794356796E12|      602|Best Of Both Worl...|   200|1.542260935796E12|\"Mozilla/5.0 (Mac...|    80|2018-11-15 05:48:...|  05:48:55|   5| 15|  46|   11|2018|    Thu|\n",
      "|           Magic Sam|Logged In|    Tegan|     F|            3|  Levine|132.04853| paid|Portland-South Po...|   PUT|NextSong|1.540794356796E12|      602|Call Me If You Ne...|   200|1.542261224796E12|\"Mozilla/5.0 (Mac...|    80|2018-11-15 05:53:...|  05:53:44|   5| 15|  46|   11|2018|    Thu|\n",
      "|Edward Sharpe & T...|Logged In|    Tegan|     F|            4|  Levine|306.31138| paid|Portland-South Po...|   PUT|NextSong|1.540794356796E12|      602|                Home|   200|1.542261356796E12|\"Mozilla/5.0 (Mac...|    80|2018-11-15 05:55:...|  05:55:56|   5| 15|  46|   11|2018|    Thu|\n",
      "|Usher featuring w...|Logged In|    Tegan|     F|            5|  Levine|395.72853| paid|Portland-South Po...|   PUT|NextSong|1.540794356796E12|      602|                 OMG|   200|1.542261662796E12|\"Mozilla/5.0 (Mac...|    80|2018-11-15 06:01:...|  06:01:02|   6| 15|  46|   11|2018|    Thu|\n",
      "|         Helen Reddy|Logged In|    Tegan|     F|            7|  Levine|176.50893| paid|Portland-South Po...|   PUT|NextSong|1.540794356796E12|      602| Candle On The Water|   200|1.542262057796E12|\"Mozilla/5.0 (Mac...|    80|2018-11-15 06:07:...|  06:07:37|   6| 15|  46|   11|2018|    Thu|\n",
      "|        Taylor Swift|Logged In|    Tegan|     F|            8|  Levine|201.06404| paid|Portland-South Po...|   PUT|NextSong|1.540794356796E12|      602|            Our Song|   200|1.542262233796E12|\"Mozilla/5.0 (Mac...|    80|2018-11-15 06:10:...|  06:10:33|   6| 15|  46|   11|2018|    Thu|\n",
      "|           Sean Paul|Logged In|    Tegan|     F|            9|  Levine|245.34159| paid|Portland-South Po...|   PUT|NextSong|1.540794356796E12|      602|Baby Boy [feat. B...|   200|1.542262434796E12|\"Mozilla/5.0 (Mac...|    80|2018-11-15 06:13:...|  06:13:54|   6| 15|  46|   11|2018|    Thu|\n",
      "|         Soundgarden|Logged In|     Lily|     F|            0|    Koch|272.19546| paid|Chicago-Napervill...|   PUT|NextSong|1.541048010796E12|      582|      Black Hole Sun|   200|1.542262456796E12|\"Mozilla/5.0 (X11...|    15|2018-11-15 06:14:...|  06:14:16|   6| 15|  46|   11|2018|    Thu|\n",
      "|         The Killers|Logged In|    Tegan|     F|           10|  Levine|360.75057| paid|Portland-South Po...|   PUT|NextSong|1.540794356796E12|      602|               Human|   200|1.542262679796E12|\"Mozilla/5.0 (Mac...|    80|2018-11-15 06:17:...|  06:17:59|   6| 15|  46|   11|2018|    Thu|\n",
      "|       Amy Winehouse|Logged In|     Lily|     F|            1|    Koch|165.11955| paid|Chicago-Napervill...|   PUT|NextSong|1.541048010796E12|      582|            Addicted|   200|1.542262728796E12|\"Mozilla/5.0 (X11...|    15|2018-11-15 06:18:...|  06:18:48|   6| 15|  46|   11|2018|    Thu|\n",
      "|      Steve Anderson|Logged In|     Lily|     F|            2|    Koch|265.06404| paid|Chicago-Napervill...|   PUT|NextSong|1.541048010796E12|      582|                 Air|   200|1.542262893796E12|\"Mozilla/5.0 (X11...|    15|2018-11-15 06:21:...|  06:21:33|   6| 15|  46|   11|2018|    Thu|\n",
      "|          Rob Zombie|Logged In|     Lily|     F|            3|    Koch|220.13342| paid|Chicago-Napervill...|   PUT|NextSong|1.541048010796E12|      582|          Superbeast|   200|1.542263158796E12|\"Mozilla/5.0 (X11...|    15|2018-11-15 06:25:...|  06:25:58|   6| 15|  46|   11|2018|    Thu|\n",
      "|  Deadmau5 & Kaskade|Logged In|     Lily|     F|            4|    Koch|595.56526| paid|Chicago-Napervill...|   PUT|NextSong|1.541048010796E12|      582|          I Remember|   200|1.542263378796E12|\"Mozilla/5.0 (X11...|    15|2018-11-15 06:29:...|  06:29:38|   6| 15|  46|   11|2018|    Thu|\n",
      "|        Shania Twain|Logged In|     Ryan|     M|            0|   Smith| 213.7073| free|San Jose-Sunnyval...|   PUT|NextSong|1.541016707796E12|      607|Don't Be Stupid (...|   200|1.542265716796E12|\"Mozilla/5.0 (X11...|    26|2018-11-15 07:08:...|  07:08:36|   7| 15|  46|   11|2018|    Thu|\n",
      "|      Los Campesinos|Logged In|     Ryan|     M|            1|   Smith|138.10893| free|San Jose-Sunnyval...|   PUT|NextSong|1.541016707796E12|      607|We throw parties_...|   200|1.542265929796E12|\"Mozilla/5.0 (X11...|    26|2018-11-15 07:12:...|  07:12:09|   7| 15|  46|   11|2018|    Thu|\n",
      "|            Ill Nino|Logged In|    Chloe|     F|            1|  Cuevas| 188.9171| paid|San Francisco-Oak...|   PUT|NextSong|1.540940782796E12|      606|How Can I Live (S...|   200|1.542266927796E12|Mozilla/5.0 (Wind...|    49|2018-11-15 07:28:...|  07:28:47|   7| 15|  46|   11|2018|    Thu|\n",
      "+--------------------+---------+---------+------+-------------+--------+---------+-----+--------------------+------+--------+-----------------+---------+--------------------+------+-----------------+--------------------+------+--------------------+----------+----+---+----+-----+----+-------+\n",
      "only showing top 20 rows"
     ]
    }
   ],
   "source": [
    "log_df.show()"
   ]
  },
  {
   "cell_type": "code",
   "execution_count": 131,
   "metadata": {
    "editable": true
   },
   "outputs": [
    {
     "data": {
      "application/vnd.jupyter.widget-view+json": {
       "model_id": "ce53d73bb8124823909b5b85857ba6f3",
       "version_major": 2,
       "version_minor": 0
      },
      "text/plain": [
       "VBox()"
      ]
     },
     "metadata": {},
     "output_type": "display_data"
    },
    {
     "data": {
      "application/vnd.jupyter.widget-view+json": {
       "model_id": "",
       "version_major": 2,
       "version_minor": 0
      },
      "text/plain": [
       "FloatProgress(value=0.0, bar_style='info', description='Progress:', layout=Layout(height='25px', width='50%'),…"
      ]
     },
     "metadata": {},
     "output_type": "display_data"
    }
   ],
   "source": [
    "df_join = songs_df_small.join(log_df, songs_df_small.title == log_df.song)"
   ]
  },
  {
   "cell_type": "code",
   "execution_count": 132,
   "metadata": {
    "editable": true
   },
   "outputs": [
    {
     "data": {
      "application/vnd.jupyter.widget-view+json": {
       "model_id": "4fb5de1299e84d59bec1b58e87304863",
       "version_major": 2,
       "version_minor": 0
      },
      "text/plain": [
       "VBox()"
      ]
     },
     "metadata": {},
     "output_type": "display_data"
    },
    {
     "data": {
      "application/vnd.jupyter.widget-view+json": {
       "model_id": "",
       "version_major": 2,
       "version_minor": 0
      },
      "text/plain": [
       "FloatProgress(value=0.0, bar_style='info', description='Progress:', layout=Layout(height='25px', width='50%'),…"
      ]
     },
     "metadata": {},
     "output_type": "display_data"
    },
    {
     "name": "stdout",
     "output_type": "stream",
     "text": [
      "+---------+---------------+--------------------+----------------+--------------------+------------------+--------------------+------------------+----+---------+--------------------+---------+----------+------+-------------+---------+---------+-----+--------------------+------+--------+-----------------+---------+--------------------+------+-----------------+--------------------+------+--------------------+----------+----+---+----+-----+----+-------+\n",
      "|num_songs|artist_latitude|     artist_location|artist_longitude|         artist_name|           song_id|               title|         artist_id|year| duration|              artist|     auth| firstName|gender|itemInSession| lastName|   length|level|            location|method|    page|     registration|sessionId|                song|status|               ts|           userAgent|userId|           timestamp|start_time|hour|day|week|month|year|weekday|\n",
      "+---------+---------------+--------------------+----------------+--------------------+------------------+--------------------+------------------+----+---------+--------------------+---------+----------+------+-------------+---------+---------+-----+--------------------+------+--------+-----------------+---------+--------------------+------+-----------------+--------------------+------+--------------------+----------+----+---+----+-----+----+-------+\n",
      "|        1|       46.20835| Geneva, Switzerland|          6.1427|         Lionel Rogg|SOCHPTV12A6BD53113|Die Kunst der Fug...|ARN8NCB1187FB49652|   0|172.38159|         Lionel Rogg|Logged In|  Mohammad|     M|           13|Rodriguez|172.38159| paid|Sacramento--Rosev...|   PUT|NextSong|1.540511766796E12|      744|Die Kunst der Fug...|   200|1.542788743796E12|\"Mozilla/5.0 (Mac...|    88|2018-11-21 08:25:...|  08:25:43|   8| 21|  47|   11|2018|    Wed|\n",
      "|        1|       41.88415|         Chicago, IL|       -87.63241|Lupe Fiasco feat....|SOGXSWA12A6D4FBC99|Fighters (feat. M...|ARPFHN61187FB575F6|   0|213.34159|Lupe Fiasco feat....|Logged In|     Chloe|     F|           47|   Cuevas|213.34159| paid|San Francisco-Oak...|   PUT|NextSong|1.540940782796E12|     1041|Fighters (feat. M...|   200|1.543510681796E12|Mozilla/5.0 (Wind...|    49|2018-11-29 16:58:...|  16:58:01|  16| 29|  48|   11|2018|    Thu|\n",
      "|        1|           null|San Juan, Puerto ...|            null|         Luis Miguel|SOJWCWM12A8C13B664|Suena (\"Some Day\"...|ARM6T8I1187FB36CC8|1996|256.13016|         Luis Miguel|Logged In|     Emily|     F|           20|   Benson|256.13016| paid|Augusta-Richmond ...|   PUT|NextSong|1.540907087796E12|      887|Suena (\"Some Day\"...|   200|1.543393137796E12|\"Mozilla/5.0 (Win...|    58|2018-11-28 08:18:...|  08:18:57|   8| 28|  48|   11|2018|    Wed|\n",
      "|        1|           null|Berkeley, California|            null|             MC Lars|SOHRHCN12AB018B0F4|It's Not Easy (Be...|ARHQBRZ1187FB3BDA2|2009|222.87628|             MC Lars|Logged In|     Layla|     F|           81|  Griffin|222.87628| paid|Lake Havasu City-...|   PUT|NextSong|1.541057188796E12|      984|It's Not Easy (Be...|   200|1.543448083796E12|\"Mozilla/5.0 (Win...|    24|2018-11-28 23:34:...|  23:34:43|  23| 28|  48|   11|2018|    Wed|\n",
      "|        1|           null|Huntington Beach, CA|            null|        Hellogoodbye|SOARTQC12A58A77F0C|Shimmy Shimmy Qua...|ARCE0IX1187FB528B4|2004|193.93261|        Hellogoodbye|Logged In|  Mohammad|     M|           49|Rodriguez|193.93261| paid|Sacramento--Rosev...|   PUT|NextSong|1.540511766796E12|      900|Shimmy Shimmy Qua...|   200|1.543246634796E12|\"Mozilla/5.0 (Mac...|    88|2018-11-26 15:37:...|  15:37:14|  15| 26|  48|   11|2018|    Mon|\n",
      "|        1|       35.83073|           Tennessee|       -85.97874|    David Arkenstone|SOEMXXF12A6D4F932C|Waterfall (Spirit...|ARI4S0E1187B9B06C0|   0|363.41506|    David Arkenstone|Logged In|   Matthew|     M|           14|    Jones|363.41506| paid|Janesville-Beloit...|   PUT|NextSong|1.541062818796E12|      461|Waterfall (Spirit...|   200|1.542388731796E12|\"Mozilla/5.0 (Win...|    36|2018-11-16 17:18:...|  17:18:51|  17| 16|  46|   11|2018|    Fri|\n",
      "|        1|       35.83073|           Tennessee|       -85.97874|    David Arkenstone|SOEMXXF12A6D4F932C|Waterfall (Spirit...|ARI4S0E1187B9B06C0|   0|363.41506|    David Arkenstone|Logged In|     Chloe|     F|            3|   Cuevas|363.41506| paid|San Francisco-Oak...|   PUT|NextSong|1.540940782796E12|     1079|Waterfall (Spirit...|   200|1.543553823796E12|Mozilla/5.0 (Wind...|    49|2018-11-30 04:57:...|  04:57:03|   4| 30|  48|   11|2018|    Fri|\n",
      "|        1|       50.90994|Southampton, England|        -1.40732|         Craig David|SOXTMWU12AB0185E3B|One More Lie (Sta...|ARB3YNF1187B992AF0|2010|184.47628|         Craig David|Logged In|      Kate|     F|           42|  Harrell|184.47628| paid|Lansing-East Lans...|   PUT|NextSong|1.540472624796E12|      817|One More Lie (Sta...|   200|1.542830644796E12|\"Mozilla/5.0 (X11...|    97|2018-11-21 20:04:...|  20:04:04|  20| 21|  47|   11|2018|    Wed|\n",
      "|        1|       52.88356|UK - England - So...|        -1.97406|Sounds from the G...|SOAHVKA12A8C146C5F|Where The Wild Th...|ARPBMSQ1187B98AE69|1996|458.31791|Sounds from the G...|Logged In|     Jacob|     M|           11|    Klein|458.31791| paid|Tampa-St. Petersb...|   PUT|NextSong|1.540558108796E12|      954|Where The Wild Th...|   200|1.543439113796E12|\"Mozilla/5.0 (Mac...|    73|2018-11-28 21:05:...|  21:05:13|  21| 28|  48|   11|2018|    Wed|\n",
      "|        1|       37.80506|         Oakland, CA|      -122.27302|Keyshia Cole / T....|SODFRAX12A8C13274B|           Let It Go|ARP29T31187B98DD5F|2007|220.08118|Keyshia Cole / T....|Logged In|   Matthew|     M|           45|    Jones|220.08118| paid|Janesville-Beloit...|   PUT|NextSong|1.541062818796E12|      957|           Let It Go|   200|1.543342978796E12|\"Mozilla/5.0 (Win...|    36|2018-11-27 18:22:...|  18:22:58|  18| 27|  48|   11|2018|    Tue|\n",
      "|        1|       40.19033|          Toledo, OH|       -82.66947|        Sanctus Real|SOJWLVW12A67ADE81C|Possibilities (Th...|AROPXGU1187B98987F|   0|209.89342|        Sanctus Real|Logged In|      Kate|     F|            1|  Harrell|209.89342| paid|Lansing-East Lans...|   PUT|NextSong|1.540472624796E12|      837|Possibilities (Th...|   200|1.543220928796E12|\"Mozilla/5.0 (X11...|    97|2018-11-26 08:28:...|  08:28:48|   8| 26|  48|   11|2018|    Mon|\n",
      "|        1|           null|Sheffield, South ...|            null|      Arctic Monkeys|SODKJWI12A8151BD74|From The Ritz To ...|ARM0P6Z1187FB4D466|2004|193.43628|      Arctic Monkeys|Logged In|     Jacob|     M|           36|    Klein|193.43628| paid|Tampa-St. Petersb...|   PUT|NextSong|1.540558108796E12|      518|From The Ritz To ...|   200|1.542469913796E12|\"Mozilla/5.0 (Mac...|    73|2018-11-17 15:51:...|  15:51:53|  15| 17|  46|   11|2018|    Sat|\n",
      "|        1|           null|Sheffield, South ...|            null|      Arctic Monkeys|SODKJWI12A8151BD74|From The Ritz To ...|ARM0P6Z1187FB4D466|2004|193.43628|      Arctic Monkeys|Logged In|Jacqueline|     F|           12|    Lynch|193.43628| paid|Atlanta-Sandy Spr...|   PUT|NextSong|1.540223723796E12|      898|From The Ritz To ...|   200|1.543080559796E12|\"Mozilla/5.0 (Mac...|    29|2018-11-24 17:29:...|  17:29:19|  17| 24|  47|   11|2018|    Sat|\n",
      "|        1|           null|Sheffield, South ...|            null|      Arctic Monkeys|SODKJWI12A8151BD74|From The Ritz To ...|ARM0P6Z1187FB4D466|2004|193.43628|      Arctic Monkeys|Logged In|     Chloe|     F|            6|   Cuevas|193.43628| paid|San Francisco-Oak...|   PUT|NextSong|1.540940782796E12|     1023|From The Ritz To ...|   200|1.543426767796E12|Mozilla/5.0 (Wind...|    49|2018-11-28 17:39:...|  17:39:27|  17| 28|  48|   11|2018|    Wed|\n",
      "|        1|       42.31256|          Boston, MA|       -71.08868|Arthur Fiedler;Ea...|SOJRXUV12A8C136CA0|    Rhapsody In Blue|ARQIB731187FB3BE17|   0|976.56118|  Richard Clayderman|Logged In|     Jacob|     M|           34|    Klein|303.80363| paid|Tampa-St. Petersb...|   PUT|NextSong|1.540558108796E12|      692|    Rhapsody In Blue|   200|1.543070051796E12|\"Mozilla/5.0 (Mac...|    73|2018-11-24 14:34:...|  14:34:11|  14| 24|  47|   11|2018|    Sat|\n",
      "|        1|           null|Sheffield, South ...|            null|      Arctic Monkeys|SOCGOZK12A8151BD5D|Fake Tales Of San...|ARM0P6Z1187FB4D466|2004|177.94567|      Arctic Monkeys|Logged In|     Chloe|     F|           11|   Cuevas|177.94567| paid|San Francisco-Oak...|   PUT|NextSong|1.540940782796E12|      849|Fake Tales Of San...|   200|1.543074462796E12|Mozilla/5.0 (Wind...|    49|2018-11-24 15:47:...|  15:47:42|  15| 24|  47|   11|2018|    Sat|\n",
      "|        1|           null|Sheffield, South ...|            null|      Arctic Monkeys|SOCGOZK12A8151BD5D|Fake Tales Of San...|ARM0P6Z1187FB4D466|2004|177.94567|      Arctic Monkeys|Logged In| Katherine|     F|            3|      Gay|177.94567| free|San Antonio-New B...|   PUT|NextSong|1.540968306796E12|       56|Fake Tales Of San...|   200|1.541397425796E12|\"Mozilla/5.0 (Mac...|    57|2018-11-05 05:57:...|  05:57:05|   5|  5|  45|   11|2018|    Mon|\n",
      "|        1|        55.8578|   Glasgow, Scotland|        -4.24251|             Donovan|SOKMDJJ12AB0181C64|Starfish-On-The-T...|AR6M65W1187FB3611E|2000|169.22077|             Donovan|Logged In|     Chloe|     F|           44|   Cuevas|169.22077| paid|San Francisco-Oak...|   PUT|NextSong|1.540940782796E12|     1079|Starfish-On-The-T...|   200|1.543564025796E12|Mozilla/5.0 (Wind...|    49|2018-11-30 07:47:...|  07:47:05|   7| 30|  48|   11|2018|    Fri|\n",
      "|        1|        42.2306|      Lanciano Italy|        14.39059|Creedence Clearwa...|SOSOMQZ12AB0180900|Have You Ever See...|ARLH4CH11C8A4173EC|   0|257.59302|Creedence Clearwa...|Logged In|      Kate|     F|           75|  Harrell|160.02567| paid|Lansing-East Lans...|   PUT|NextSong|1.540472624796E12|      293|Have You Ever See...|   200|1.541546204796E12|\"Mozilla/5.0 (X11...|    97|2018-11-06 23:16:...|  23:16:44|  23|  6|  45|   11|2018|    Tue|\n",
      "|        1|       51.50632|     London, England|        -0.12714|Dub Pistols feat....|SOAHAEF12AB017E6A5|         I'm In Love|ARXK4YK1187FB4D0C4|   0|333.21751|            Ginuwine|Logged In|     Chloe|     F|           10|   Cuevas|244.27057| paid|San Francisco-Oak...|   PUT|NextSong|1.540940782796E12|      621|         I'm In Love|   200|1.542301464796E12|Mozilla/5.0 (Wind...|    49|2018-11-15 17:04:...|  17:04:24|  17| 15|  46|   11|2018|    Thu|\n",
      "+---------+---------------+--------------------+----------------+--------------------+------------------+--------------------+------------------+----+---------+--------------------+---------+----------+------+-------------+---------+---------+-----+--------------------+------+--------+-----------------+---------+--------------------+------+-----------------+--------------------+------+--------------------+----------+----+---+----+-----+----+-------+\n",
      "only showing top 20 rows"
     ]
    }
   ],
   "source": [
    "df_join.show()"
   ]
  },
  {
   "cell_type": "code",
   "execution_count": 133,
   "metadata": {
    "editable": true
   },
   "outputs": [
    {
     "data": {
      "application/vnd.jupyter.widget-view+json": {
       "model_id": "043b94e15ad149a3a82882f7e48535b3",
       "version_major": 2,
       "version_minor": 0
      },
      "text/plain": [
       "VBox()"
      ]
     },
     "metadata": {},
     "output_type": "display_data"
    },
    {
     "data": {
      "application/vnd.jupyter.widget-view+json": {
       "model_id": "",
       "version_major": 2,
       "version_minor": 0
      },
      "text/plain": [
       "FloatProgress(value=0.0, bar_style='info', description='Progress:', layout=Layout(height='25px', width='50%'),…"
      ]
     },
     "metadata": {},
     "output_type": "display_data"
    }
   ],
   "source": [
    "songplays_table = df_join.select(\"start_time\",\n",
    "                                 \"userId\",\n",
    "                                 \"level\",\n",
    "                                 \"song_id\",\n",
    "                                 \"artist_id\",\n",
    "                                 \"sessionId\",\n",
    "                                 \"location\",\n",
    "                                 \"userAgent\",\n",
    "                                 \"year\",\n",
    "                                 \"month\").distinct()"
   ]
  },
  {
   "cell_type": "code",
   "execution_count": 134,
   "metadata": {
    "editable": true
   },
   "outputs": [
    {
     "data": {
      "application/vnd.jupyter.widget-view+json": {
       "model_id": "bcf245a9e63447b0955f3085a12b4f1d",
       "version_major": 2,
       "version_minor": 0
      },
      "text/plain": [
       "VBox()"
      ]
     },
     "metadata": {},
     "output_type": "display_data"
    },
    {
     "data": {
      "application/vnd.jupyter.widget-view+json": {
       "model_id": "",
       "version_major": 2,
       "version_minor": 0
      },
      "text/plain": [
       "FloatProgress(value=0.0, bar_style='info', description='Progress:', layout=Layout(height='25px', width='50%'),…"
      ]
     },
     "metadata": {},
     "output_type": "display_data"
    }
   ],
   "source": [
    "songplays_table = songplays_table.withColumn(\"songplay_id\", monotonically_increasing_id())"
   ]
  },
  {
   "cell_type": "code",
   "execution_count": 135,
   "metadata": {
    "editable": true
   },
   "outputs": [
    {
     "data": {
      "application/vnd.jupyter.widget-view+json": {
       "model_id": "fdb7eb4caf79469b9642373a17a039bc",
       "version_major": 2,
       "version_minor": 0
      },
      "text/plain": [
       "VBox()"
      ]
     },
     "metadata": {},
     "output_type": "display_data"
    },
    {
     "data": {
      "application/vnd.jupyter.widget-view+json": {
       "model_id": "",
       "version_major": 2,
       "version_minor": 0
      },
      "text/plain": [
       "FloatProgress(value=0.0, bar_style='info', description='Progress:', layout=Layout(height='25px', width='50%'),…"
      ]
     },
     "metadata": {},
     "output_type": "display_data"
    }
   ],
   "source": [
    "songplays_table = songplays_table.select(\"songplay_id\",\n",
    "                                             \"start_time\",\n",
    "                                             \"userId\",\n",
    "                                             \"level\",\n",
    "                                             \"song_id\",\n",
    "                                             \"artist_id\",\n",
    "                                             \"sessionId\",\n",
    "                                             \"location\",\n",
    "                                             \"userAgent\",\n",
    "                                             \"year\",\n",
    "                                             \"month\")"
   ]
  },
  {
   "cell_type": "code",
   "execution_count": 136,
   "metadata": {
    "editable": true
   },
   "outputs": [
    {
     "data": {
      "application/vnd.jupyter.widget-view+json": {
       "model_id": "44ac4cb933044d8e875b363a678e077e",
       "version_major": 2,
       "version_minor": 0
      },
      "text/plain": [
       "VBox()"
      ]
     },
     "metadata": {},
     "output_type": "display_data"
    },
    {
     "data": {
      "application/vnd.jupyter.widget-view+json": {
       "model_id": "",
       "version_major": 2,
       "version_minor": 0
      },
      "text/plain": [
       "FloatProgress(value=0.0, bar_style='info', description='Progress:', layout=Layout(height='25px', width='50%'),…"
      ]
     },
     "metadata": {},
     "output_type": "display_data"
    }
   ],
   "source": [
    "songplays_table.write.mode('overwrite').partitionBy(\"year\", \"month\").parquet(output_data + \"/songplays_table/\")"
   ]
  },
  {
   "cell_type": "code",
   "execution_count": 137,
   "metadata": {
    "editable": true
   },
   "outputs": [
    {
     "data": {
      "application/vnd.jupyter.widget-view+json": {
       "model_id": "ba3883fca9b849369d643c1d5e304bf2",
       "version_major": 2,
       "version_minor": 0
      },
      "text/plain": [
       "VBox()"
      ]
     },
     "metadata": {},
     "output_type": "display_data"
    },
    {
     "data": {
      "application/vnd.jupyter.widget-view+json": {
       "model_id": "",
       "version_major": 2,
       "version_minor": 0
      },
      "text/plain": [
       "FloatProgress(value=0.0, bar_style='info', description='Progress:', layout=Layout(height='25px', width='50%'),…"
      ]
     },
     "metadata": {},
     "output_type": "display_data"
    },
    {
     "name": "stdout",
     "output_type": "stream",
     "text": [
      "0"
     ]
    }
   ],
   "source": [
    "os.system(\"s3-dist-cp --src hdfs:///dwh/songplays_table --dest s3a://udacity-data-engineering-stan/data/songplays_table\")"
   ]
  },
  {
   "cell_type": "code",
   "execution_count": null,
   "metadata": {
    "editable": true
   },
   "outputs": [],
   "source": []
  }
 ],
 "metadata": {
  "kernelspec": {
   "display_name": "Python 3",
   "language": "python",
   "name": "python3"
  },
  "language_info": {
   "codemirror_mode": {
    "name": "ipython",
    "version": 3
   },
   "file_extension": ".py",
   "mimetype": "text/x-python",
   "name": "python",
   "nbconvert_exporter": "python",
   "pygments_lexer": "ipython3",
   "version": "3.6.3"
  }
 },
 "nbformat": 4,
 "nbformat_minor": 4
}
