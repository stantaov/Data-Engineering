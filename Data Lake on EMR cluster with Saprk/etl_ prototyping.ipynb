{
 "cells": [
  {
   "cell_type": "code",
   "execution_count": 1,
   "metadata": {
    "editable": true
   },
   "outputs": [],
   "source": [
    "# load all libraries\n",
    "import configparser\n",
    "from datetime import datetime\n",
    "import os\n",
    "from pyspark.sql import SparkSession\n",
    "from pyspark.sql.functions import udf, col\n",
    "from pyspark.sql.functions import year, month, dayofmonth, hour, weekofyear, date_format\n",
    "from pyspark.sql.types import *\n",
    "from pyspark.sql.functions import monotonically_increasing_id"
   ]
  },
  {
   "cell_type": "code",
   "execution_count": 2,
   "metadata": {
    "editable": true
   },
   "outputs": [],
   "source": [
    "# create spark session\n",
    "spark = SparkSession \\\n",
    "    .builder \\\n",
    "    .config(\"spark.jars.packages\", \"org.apache.hadoop:hadoop-aws:2.7.0\") \\\n",
    "    .getOrCreate()"
   ]
  },
  {
   "cell_type": "code",
   "execution_count": 3,
   "metadata": {
    "editable": true
   },
   "outputs": [
    {
     "data": {
      "text/html": [
       "\n",
       "            <div>\n",
       "                <p><b>SparkSession - in-memory</b></p>\n",
       "                \n",
       "        <div>\n",
       "            <p><b>SparkContext</b></p>\n",
       "\n",
       "            <p><a href=\"http://88759bbb6c76:4040\">Spark UI</a></p>\n",
       "\n",
       "            <dl>\n",
       "              <dt>Version</dt>\n",
       "                <dd><code>v2.4.3</code></dd>\n",
       "              <dt>Master</dt>\n",
       "                <dd><code>local[*]</code></dd>\n",
       "              <dt>AppName</dt>\n",
       "                <dd><code>pyspark-shell</code></dd>\n",
       "            </dl>\n",
       "        </div>\n",
       "        \n",
       "            </div>\n",
       "        "
      ],
      "text/plain": [
       "<pyspark.sql.session.SparkSession at 0x7f67b86359e8>"
      ]
     },
     "execution_count": 3,
     "metadata": {},
     "output_type": "execute_result"
    }
   ],
   "source": [
    "# print information about spark session\n",
    "spark"
   ]
  },
  {
   "cell_type": "markdown",
   "metadata": {
    "editable": true
   },
   "source": [
    "## Need to create following tables\n",
    "\n",
    "<strong>Fact Table</strong>\n",
    "\n",
    "<strong>songplays</strong> - records in log data associated with song plays i.e. records with page NextSong\n",
    "<li>songplay_id, start_time, user_id, level, song_id, artist_id, session_id, location, user_agent</li>\n",
    "<p></p>\n",
    "\n",
    "<strong>Dimension Tables</strong>\n",
    "<p></p>\n",
    "<strong>users</strong> - users in the app\n",
    "<li>user_id, first_name, last_name, gender, level</li>\n",
    "<strong>songs</strong> - songs in music database\n",
    "<li>song_id, title, artist_id, year, duration</li>\n",
    "<strong>artists</strong> - artists in music database\n",
    "<li>artist_id, name, location, lattitude, longitude</li>\n",
    "<strong>time</strong> - timestamps of records in songplays broken down into specific units\n",
    "<li>start_time, hour, day, week, month, year, weekday</li>"
   ]
  },
  {
   "cell_type": "code",
   "execution_count": 4,
   "metadata": {
    "editable": true
   },
   "outputs": [],
   "source": [
    "# create schema and load song_data to data frame\n",
    "schema =  StructType([\n",
    "                        StructField(\"num_songs\", ShortType(), True),\n",
    "                        StructField(\"artist_latitude\", StringType(), True),\n",
    "                        StructField(\"artist_location\", StringType(), True),\n",
    "                        StructField(\"artist_longitude\", StringType(), True),\n",
    "                        StructField(\"artist_name\", StringType(), True),\n",
    "                        StructField(\"song_id\", StringType(), False),\n",
    "                        StructField(\"title\", StringType(), True),\n",
    "                        StructField(\"artist_id\", StringType(), False),\n",
    "                        StructField(\"year\", ShortType(), True),\n",
    "                        StructField(\"duration\", DoubleType(), True)\n",
    "                    ])\n",
    "\n",
    "df_song = spark.read.schema(schema).json(\"data/song-data/song_data/A/*/*/*.json\")"
   ]
  },
  {
   "cell_type": "code",
   "execution_count": 5,
   "metadata": {
    "editable": true
   },
   "outputs": [
    {
     "data": {
      "text/plain": [
       "71"
      ]
     },
     "execution_count": 5,
     "metadata": {},
     "output_type": "execute_result"
    }
   ],
   "source": [
    "# show number or rows \n",
    "df_song.count()"
   ]
  },
  {
   "cell_type": "code",
   "execution_count": 6,
   "metadata": {
    "editable": true
   },
   "outputs": [
    {
     "name": "stdout",
     "output_type": "stream",
     "text": [
      "root\n",
      " |-- num_songs: short (nullable = true)\n",
      " |-- artist_latitude: string (nullable = true)\n",
      " |-- artist_location: string (nullable = true)\n",
      " |-- artist_longitude: string (nullable = true)\n",
      " |-- artist_name: string (nullable = true)\n",
      " |-- song_id: string (nullable = true)\n",
      " |-- title: string (nullable = true)\n",
      " |-- artist_id: string (nullable = true)\n",
      " |-- year: short (nullable = true)\n",
      " |-- duration: double (nullable = true)\n",
      "\n"
     ]
    }
   ],
   "source": [
    "# print out schema\n",
    "df_song.printSchema()"
   ]
  },
  {
   "cell_type": "code",
   "execution_count": 7,
   "metadata": {
    "editable": true
   },
   "outputs": [
    {
     "data": {
      "text/plain": [
       "[Row(num_songs=1, artist_latitude=None, artist_location='', artist_longitude=None, artist_name='Montserrat Caballé;Placido Domingo;Vicente Sardinero;Judith Blegen;Sherrill Milnes;Georg Solti', song_id='SOBAYLL12A8C138AF9', title='Sono andati? Fingevo di dormire', artist_id='ARDR4AC1187FB371A1', year=0, duration=511.16363)]"
      ]
     },
     "execution_count": 7,
     "metadata": {},
     "output_type": "execute_result"
    }
   ],
   "source": [
    "# check first row\n",
    "df_song.take(1)"
   ]
  },
  {
   "cell_type": "code",
   "execution_count": 8,
   "metadata": {
    "editable": true
   },
   "outputs": [
    {
     "data": {
      "text/plain": [
       "71"
      ]
     },
     "execution_count": 8,
     "metadata": {},
     "output_type": "execute_result"
    }
   ],
   "source": [
    "# create data frame for songs_table and count number of rows \n",
    "songs_table = df_song.select(\"song_id\", \"title\", \"artist_id\", \"year\", \"duration\")\n",
    "songs_table.count()"
   ]
  },
  {
   "cell_type": "code",
   "execution_count": 9,
   "metadata": {
    "editable": true
   },
   "outputs": [
    {
     "name": "stdout",
     "output_type": "stream",
     "text": [
      "+------------------+--------------------+------------------+----+---------+\n",
      "|           song_id|               title|         artist_id|year| duration|\n",
      "+------------------+--------------------+------------------+----+---------+\n",
      "|SOBAYLL12A8C138AF9|Sono andati? Fing...|ARDR4AC1187FB371A1|   0|511.16363|\n",
      "|SOOLYAZ12A6701F4A6|Laws Patrolling (...|AREBBGV1187FB523D2|   0|173.66159|\n",
      "|SOBBUGU12A8C13E95D|Setting Fire to S...|ARMAC4T1187FB3FA4C|2004|207.77751|\n",
      "|SOAOIBZ12AB01815BE|I Hold Your Hand ...|ARPBNLO1187FB3D52F|2000| 43.36281|\n",
      "|SONYPOM12A8C13B2D7|I Think My Wife I...|ARDNS031187B9924F0|2005|186.48771|\n",
      "|SONWXQJ12A8C134D94|The Ballad Of Sle...|ARNF6401187FB57032|1994|  305.162|\n",
      "|SODREIN12A58A7F2E5|A Whiter Shade Of...|ARLTWXK1187FB5A3F8|   0|326.00771|\n",
      "|SOWQTQZ12A58A7B63E|Streets On Fire (...|ARPFHN61187FB575F6|   0|279.97995|\n",
      "|SODUJBS12A8C132150|Wessex Loses a Bride|ARI2JSK1187FB496EF|   0|111.62077|\n",
      "|SOGXHEG12AB018653E|It Makes No Diffe...|AR0RCMP1187FB3F427|1992|133.32853|\n",
      "|SOBZBAZ12A6D4F8742|      Spanish Grease|AROUOZZ1187B9ABE51|1997|168.25424|\n",
      "|SOZHPGD12A8C1394FE|     Baby Come To Me|AR9AWNF1187B9AB0B4|   0|236.93016|\n",
      "|SOBLGCN12AB0183212|James (Hold The L...|AR47JEX1187B995D81|1985|124.86485|\n",
      "|SOYMRWW12A6D4FAB14|The Moon And I (O...|ARKFYS91187B98E58F|   0| 267.7024|\n",
      "|SOHKNRJ12A6701D1F8|        Drop of Rain|AR10USD1187B99F3F1|   0|189.57016|\n",
      "|SOGNCJP12A58A80271|Do You Finally Ne...|ARB29H41187B98F0EF|1972|342.56934|\n",
      "|SOWTBJW12AC468AC6E|Broken-Down Merry...|ARQGYP71187FB44566|   0|151.84934|\n",
      "|SOTTDKS12AB018D69B|It Wont Be Christmas|ARMBR4Y1187B9990EB|   0|241.47546|\n",
      "|SOFFKZS12AB017F194|A Higher Place (A...|ARBEBBY1187B9B43DB|1994|236.17261|\n",
      "|SOBKWDJ12A8C13B2F3|Wild Rose (Back 2...|AR36F9J1187FB406F1|   0|230.71302|\n",
      "+------------------+--------------------+------------------+----+---------+\n",
      "only showing top 20 rows\n",
      "\n"
     ]
    }
   ],
   "source": [
    "# display songs_table data frame\n",
    "songs_table.show()"
   ]
  },
  {
   "cell_type": "code",
   "execution_count": 10,
   "metadata": {
    "editable": true
   },
   "outputs": [],
   "source": [
    "# save data frame in parquet format and partition it by year and artist_id\n",
    "songs_table.write.mode('overwrite').partitionBy(\"year\", \"artist_id\").parquet(\"data/parquet/songs_table\")"
   ]
  },
  {
   "cell_type": "code",
   "execution_count": 11,
   "metadata": {
    "editable": true
   },
   "outputs": [
    {
     "data": {
      "text/plain": [
       "69"
      ]
     },
     "execution_count": 11,
     "metadata": {},
     "output_type": "execute_result"
    }
   ],
   "source": [
    "# create data frame for artists_table and count number of rows \n",
    "artists_table = df_song.select(\"artist_id\", \"artist_name\", \"artist_location\", \"artist_latitude\", \"artist_longitude\").distinct()\n",
    "artists_table.count()"
   ]
  },
  {
   "cell_type": "code",
   "execution_count": 12,
   "metadata": {
    "editable": true
   },
   "outputs": [
    {
     "name": "stdout",
     "output_type": "stream",
     "text": [
      "+------------------+--------------------+---------------+---------------+----------------+\n",
      "|         artist_id|         artist_name|artist_location|artist_latitude|artist_longitude|\n",
      "+------------------+--------------------+---------------+---------------+----------------+\n",
      "|ARAJPHH1187FB5566A|     The Shangri-Las|     Queens, NY|        40.7038|       -73.83168|\n",
      "|AR0IAWL1187B9A96D0|        Danilo Perez|         Panama|         8.4177|       -80.11278|\n",
      "|ARWB3G61187FB49404|         Steve Morse| Hamilton, Ohio|           null|            null|\n",
      "|ARHHO3O1187B989413|           Bob Azzam|               |           null|            null|\n",
      "|ARAGB2O1187FB3A161|Pucho & His Latin...|               |           null|            null|\n",
      "|AREBBGV1187FB523D2|Mike Jones (Featu...|    Houston, TX|           null|            null|\n",
      "|ARGSAFR1269FB35070|          Blingtones|               |           null|            null|\n",
      "|ARJIE2Y1187B994AB7|         Line Renaud|               |           null|            null|\n",
      "|AREVWGE1187B9B890A|          Bitter End|      Noci (BA)|        -13.442|        -41.9952|\n",
      "|ARBGXIG122988F409D|          Steel Rain|California - SF|       37.77916|      -122.42005|\n",
      "|ARIG6O41187B988BDD|     Richard Souther|  United States|       37.16793|       -95.84502|\n",
      "|ARGUVEV1187B98BA17|      Sierra Maestra|               |           null|            null|\n",
      "|AROGWRA122988FEE45|     Christos Dantis|               |           null|            null|\n",
      "|ARLTWXK1187FB5A3F8|         King Curtis| Fort Worth, TX|       32.74863|       -97.32925|\n",
      "|ARVBRGZ1187FB4675A|        Gwen Stefani|               |           null|            null|\n",
      "|ARH4Z031187B9A71F2|          Faye Adams|     Newark, NJ|       40.73197|       -74.17418|\n",
      "|ARGIWFO1187B9B55B7|      Five Bolt Main|               |           null|            null|\n",
      "|ARNTLGG11E2835DDB9|                 Clp|               |           null|            null|\n",
      "|ARMJAGH1187FB546F3|        The Box Tops|    Memphis, TN|       35.14968|       -90.04892|\n",
      "|ARPFHN61187FB575F6|         Lupe Fiasco|    Chicago, IL|       41.88415|       -87.63241|\n",
      "+------------------+--------------------+---------------+---------------+----------------+\n",
      "only showing top 20 rows\n",
      "\n"
     ]
    }
   ],
   "source": [
    "# display artists_table data frame\n",
    "artists_table.show()"
   ]
  },
  {
   "cell_type": "code",
   "execution_count": 13,
   "metadata": {
    "editable": true
   },
   "outputs": [],
   "source": [
    "# save data frame in parquet format and we don't need partition since each artist_id is unique\n",
    "artists_table.write.mode('overwrite').parquet(\"data/parquet/artists_table\")"
   ]
  },
  {
   "cell_type": "code",
   "execution_count": 14,
   "metadata": {
    "editable": true
   },
   "outputs": [],
   "source": [
    "# create schema and load data to data frame\n",
    "\n",
    "schema =  StructType([\n",
    "                        StructField(\"artist\", StringType(), True),\n",
    "                        StructField(\"auth\", StringType(), True),\n",
    "                        StructField(\"firstName\", StringType(), True),\n",
    "                        StructField(\"gender\", StringType(), True),\n",
    "                        StructField(\"itemInSession\", ShortType(), True),\n",
    "                        StructField(\"lastName\", StringType(), True),\n",
    "                        StructField(\"length\", StringType(), True),\n",
    "                        StructField(\"level\", StringType(), True),\n",
    "                        StructField(\"location\", StringType(), True),\n",
    "                        StructField(\"method\", StringType(), True),\n",
    "                        StructField(\"page\", StringType(), True),\n",
    "                        StructField(\"registration\", StringType(), True),\n",
    "                        StructField(\"sessionId\", ShortType(), False),\n",
    "                        StructField(\"song\", StringType(), True),\n",
    "                        StructField(\"status\", StringType(), True),\n",
    "                        StructField(\"ts\", DoubleType(), True),\n",
    "                        StructField(\"userAgent\", StringType(), True),\n",
    "                        StructField(\"userId\", StringType(), False)\n",
    "                    ])\n",
    "\n",
    "df_log = spark.read.schema(schema).json(\"data/log-data/*.json\")"
   ]
  },
  {
   "cell_type": "code",
   "execution_count": 15,
   "metadata": {
    "editable": true
   },
   "outputs": [
    {
     "data": {
      "text/plain": [
       "[Row(artist='Harmonia', auth='Logged In', firstName='Ryan', gender='M', itemInSession=0, lastName='Smith', length='655.77751', level='free', location='San Jose-Sunnyvale-Santa Clara, CA', method='PUT', page='NextSong', registration='1.541016707796E12', sessionId=583, song='Sehr kosmisch', status='200', ts=1542241826796.0, userAgent='\"Mozilla/5.0 (X11; Linux x86_64) AppleWebKit/537.36 (KHTML, like Gecko) Ubuntu Chromium/36.0.1985.125 Chrome/36.0.1985.125 Safari/537.36\"', userId='26')]"
      ]
     },
     "execution_count": 15,
     "metadata": {},
     "output_type": "execute_result"
    }
   ],
   "source": [
    "# check first row\n",
    "df_log.take(1)"
   ]
  },
  {
   "cell_type": "code",
   "execution_count": 16,
   "metadata": {
    "editable": true
   },
   "outputs": [
    {
     "data": {
      "text/plain": [
       "8056"
      ]
     },
     "execution_count": 16,
     "metadata": {},
     "output_type": "execute_result"
    }
   ],
   "source": [
    "# print number of rows \n",
    "df_log.count()"
   ]
  },
  {
   "cell_type": "code",
   "execution_count": 17,
   "metadata": {
    "editable": true
   },
   "outputs": [],
   "source": [
    "# select only row with NextSong this will create a data frame with with active users\n",
    "df_log = df_log.where(df_log.page == \"NextSong\")"
   ]
  },
  {
   "cell_type": "code",
   "execution_count": 18,
   "metadata": {
    "editable": true
   },
   "outputs": [
    {
     "data": {
      "text/plain": [
       "6820"
      ]
     },
     "execution_count": 18,
     "metadata": {},
     "output_type": "execute_result"
    }
   ],
   "source": [
    "# print number of rows after filtering only active users\n",
    "df_log.count()"
   ]
  },
  {
   "cell_type": "code",
   "execution_count": 19,
   "metadata": {
    "editable": true
   },
   "outputs": [],
   "source": [
    "# create udf to convert ts column into TimestampType format\n",
    "get_timestamp = udf(lambda x: datetime.fromtimestamp((int(x)/1000.0)), TimestampType())\n",
    "df_log = df_log.withColumn('timestamp', get_timestamp(df_log.ts))"
   ]
  },
  {
   "cell_type": "code",
   "execution_count": 20,
   "metadata": {
    "editable": true
   },
   "outputs": [],
   "source": [
    "# create start_time, hour, day, week, month, year, weekday columns from timestamp column\n",
    "df_log = df_log.withColumn('start_time', date_format(\"timestamp\", 'HH:mm:ss'))\\\n",
    "    .withColumn('hour', hour(\"timestamp\"))\\\n",
    "    .withColumn('day', dayofmonth(\"timestamp\"))\\\n",
    "    .withColumn('week', weekofyear(\"timestamp\"))\\\n",
    "    .withColumn('month', month(\"timestamp\"))\\\n",
    "    .withColumn('year', year(\"timestamp\"))\\\n",
    "    .withColumn('weekday', date_format('timestamp', 'E'))"
   ]
  },
  {
   "cell_type": "code",
   "execution_count": 21,
   "metadata": {
    "editable": true
   },
   "outputs": [
    {
     "data": {
      "text/plain": [
       "[Row(artist='Harmonia', auth='Logged In', firstName='Ryan', gender='M', itemInSession=0, lastName='Smith', length='655.77751', level='free', location='San Jose-Sunnyvale-Santa Clara, CA', method='PUT', page='NextSong', registration='1.541016707796E12', sessionId=583, song='Sehr kosmisch', status='200', ts=1542241826796.0, userAgent='\"Mozilla/5.0 (X11; Linux x86_64) AppleWebKit/537.36 (KHTML, like Gecko) Ubuntu Chromium/36.0.1985.125 Chrome/36.0.1985.125 Safari/537.36\"', userId='26', timestamp=datetime.datetime(2018, 11, 15, 0, 30, 26, 796000), start_time='00:30:26', hour=0, day=15, week=46, month=11, year=2018, weekday='Thu')]"
      ]
     },
     "execution_count": 21,
     "metadata": {},
     "output_type": "execute_result"
    }
   ],
   "source": [
    "# display first row of the df_log data frame\n",
    "df_log.take(1)"
   ]
  },
  {
   "cell_type": "code",
   "execution_count": 43,
   "metadata": {
    "editable": true
   },
   "outputs": [
    {
     "data": {
      "text/plain": [
       "6808"
      ]
     },
     "execution_count": 43,
     "metadata": {},
     "output_type": "execute_result"
    }
   ],
   "source": [
    "# create users_table data frame and count number of rows \n",
    "users_table = df_log.select(\"start_time\", \"userId\", \"firstName\", \"lastName\", \"gender\", \"level\").distinct()\n",
    "users_table.count()"
   ]
  },
  {
   "cell_type": "code",
   "execution_count": 44,
   "metadata": {
    "editable": true
   },
   "outputs": [
    {
     "name": "stdout",
     "output_type": "stream",
     "text": [
      "+----------+------+----------+--------+------+-----+\n",
      "|start_time|userId| firstName|lastName|gender|level|\n",
      "+----------+------+----------+--------+------+-----+\n",
      "|  16:36:47|    51|      Maia|   Burke|     F| free|\n",
      "|  20:16:04|    44|    Aleena|   Kirby|     F| paid|\n",
      "|  10:42:53|    15|      Lily|    Koch|     F| paid|\n",
      "|  11:57:37|    15|      Lily|    Koch|     F| paid|\n",
      "|  13:57:44|    49|     Chloe|  Cuevas|     F| paid|\n",
      "|  12:03:49|    29|Jacqueline|   Lynch|     F| paid|\n",
      "|  16:27:47|    61|    Samuel|Gonzalez|     M| free|\n",
      "|  07:52:27|    58|     Emily|  Benson|     F| paid|\n",
      "|  14:24:16|    26|      Ryan|   Smith|     M| free|\n",
      "|  17:07:54|    97|      Kate| Harrell|     F| paid|\n",
      "|  23:49:48|    12|    Austin| Rosales|     M| free|\n",
      "|  08:01:53|    25|    Jayden|  Graves|     M| paid|\n",
      "|  21:10:36|    95|      Sara| Johnson|     F| paid|\n",
      "|  21:18:37|    95|      Sara| Johnson|     F| paid|\n",
      "|  23:22:55|    95|      Sara| Johnson|     F| paid|\n",
      "|  19:54:24|     5|    Elijah|   Davis|     M| free|\n",
      "|  12:16:19|    67|      Colm| Santana|     M| free|\n",
      "|  15:15:14|    73|     Jacob|   Klein|     M| paid|\n",
      "|  17:18:33|    16|     Rylan|  George|     M| paid|\n",
      "|  04:58:56|    24|     Layla| Griffin|     F| paid|\n",
      "+----------+------+----------+--------+------+-----+\n",
      "only showing top 20 rows\n",
      "\n"
     ]
    }
   ],
   "source": [
    "# show users_table data frame as a table\n",
    "users_table.show()"
   ]
  },
  {
   "cell_type": "code",
   "execution_count": 47,
   "metadata": {
    "editable": true
   },
   "outputs": [],
   "source": [
    "# create a new view table to use SQL\n",
    "users_table.createOrReplaceTempView(\"users_table\")"
   ]
  },
  {
   "cell_type": "code",
   "execution_count": 48,
   "metadata": {
    "editable": true
   },
   "outputs": [
    {
     "name": "stdout",
     "output_type": "stream",
     "text": [
      "+------+----------+--------+------+-----+\n",
      "|userId| firstName|lastName|gender|level|\n",
      "+------+----------+--------+------+-----+\n",
      "|    51|      Maia|   Burke|     F| free|\n",
      "|     7|    Adelyn|  Jordan|     F| free|\n",
      "|    15|      Lily|    Koch|     F| paid|\n",
      "|    54|     Kaleb|    Cook|     M| free|\n",
      "|   101|    Jayden|     Fox|     M| free|\n",
      "|    11| Christian|  Porter|     F| free|\n",
      "|    29|Jacqueline|   Lynch|     F| paid|\n",
      "|    69|  Anabelle| Simpson|     F| free|\n",
      "|    42|    Harper| Barrett|     M| paid|\n",
      "|    73|     Jacob|   Klein|     M| paid|\n",
      "|    87|    Dustin|     Lee|     M| free|\n",
      "|    64|    Hannah| Calhoun|     F| free|\n",
      "|     3|     Isaac|  Valdez|     M| free|\n",
      "|    30|     Avery| Watkins|     F| paid|\n",
      "|    34|    Evelin|   Ayala|     F| free|\n",
      "|    59|      Lily|  Cooper|     F| free|\n",
      "|     8|    Kaylee| Summers|     F| free|\n",
      "|    22|      Sean|  Wilson|     F| free|\n",
      "|    28|  Brantley|    West|     M| free|\n",
      "|    85|   Kinsley|   Young|     F| paid|\n",
      "+------+----------+--------+------+-----+\n",
      "only showing top 20 rows\n",
      "\n"
     ]
    }
   ],
   "source": [
    "# select unique users with the most recent level status\n",
    "table = spark.sql(\"\"\"\n",
    "    SELECT userId, firstName, lastName, gender, level FROM (SELECT *, \n",
    "    ROW_NUMBER() OVER(PARTITION BY userId ORDER BY start_time DESC) AS num\n",
    "    FROM users_table) AS tmp\n",
    "    WHERE num = 1\n",
    "\"\"\")\n",
    "\n",
    "table.show()"
   ]
  },
  {
   "cell_type": "code",
   "execution_count": 49,
   "metadata": {
    "editable": true
   },
   "outputs": [
    {
     "data": {
      "text/plain": [
       "96"
      ]
     },
     "execution_count": 49,
     "metadata": {},
     "output_type": "execute_result"
    }
   ],
   "source": [
    "# count rows\n",
    "table.count()"
   ]
  },
  {
   "cell_type": "code",
   "execution_count": 50,
   "metadata": {
    "editable": true
   },
   "outputs": [
    {
     "name": "stdout",
     "output_type": "stream",
     "text": [
      "+------+-----+-----+\n",
      "|gender|level|users|\n",
      "+------+-----+-----+\n",
      "|     M| free|  636|\n",
      "|     F| free|  593|\n",
      "|     F| paid| 4284|\n",
      "|     M| paid| 1295|\n",
      "+------+-----+-----+\n",
      "\n"
     ]
    }
   ],
   "source": [
    "table = spark.sql(\"\"\"\n",
    "    SELECT gender, level, COUNT(*) AS users\n",
    "    FROM users_table\n",
    "    GROUP BY gender, level\n",
    "\"\"\")\n",
    "\n",
    "table.show()"
   ]
  },
  {
   "cell_type": "code",
   "execution_count": 51,
   "metadata": {
    "editable": true
   },
   "outputs": [],
   "source": [
    "# save data frame in parquet format and partition it by gender and level\n",
    "users_table.write.mode('overwrite').partitionBy(\"gender\", \"level\").parquet(\"data/parquet/users_table\")"
   ]
  },
  {
   "cell_type": "code",
   "execution_count": 52,
   "metadata": {
    "editable": true
   },
   "outputs": [],
   "source": [
    "# select start_time, hour, day, week, month, year, weekday columns to create time table\n",
    "time_table = df_log.select(\"start_time\", \"hour\", \"day\", \"week\", \"month\", \"year\", \"weekday\").distinct()"
   ]
  },
  {
   "cell_type": "code",
   "execution_count": 53,
   "metadata": {
    "editable": true
   },
   "outputs": [
    {
     "name": "stdout",
     "output_type": "stream",
     "text": [
      "+----------+----+---+----+-----+----+-------+\n",
      "|start_time|hour|day|week|month|year|weekday|\n",
      "+----------+----+---+----+-----+----+-------+\n",
      "|  11:44:01|  11| 15|  46|   11|2018|    Thu|\n",
      "|  14:09:23|  14| 15|  46|   11|2018|    Thu|\n",
      "|  16:54:20|  16| 15|  46|   11|2018|    Thu|\n",
      "|  19:37:26|  19| 15|  46|   11|2018|    Thu|\n",
      "|  06:29:28|   6| 21|  47|   11|2018|    Wed|\n",
      "|  17:41:13|  17| 21|  47|   11|2018|    Wed|\n",
      "|  12:53:05|  12| 14|  46|   11|2018|    Wed|\n",
      "|  16:26:21|  16| 14|  46|   11|2018|    Wed|\n",
      "|  09:28:29|   9| 28|  48|   11|2018|    Wed|\n",
      "|  09:40:04|   9| 28|  48|   11|2018|    Wed|\n",
      "|  12:06:59|  12| 28|  48|   11|2018|    Wed|\n",
      "|  19:06:42|  19| 28|  48|   11|2018|    Wed|\n",
      "|  05:51:57|   5|  5|  45|   11|2018|    Mon|\n",
      "|  09:14:07|   9|  5|  45|   11|2018|    Mon|\n",
      "|  11:21:24|  11|  5|  45|   11|2018|    Mon|\n",
      "|  15:09:31|  15|  5|  45|   11|2018|    Mon|\n",
      "|  17:23:52|  17|  5|  45|   11|2018|    Mon|\n",
      "|  13:59:17|  13| 13|  46|   11|2018|    Tue|\n",
      "|  15:33:06|  15| 30|  48|   11|2018|    Fri|\n",
      "|  13:46:38|  13| 16|  46|   11|2018|    Fri|\n",
      "+----------+----+---+----+-----+----+-------+\n",
      "only showing top 20 rows\n",
      "\n"
     ]
    }
   ],
   "source": [
    "# display time_table data frame\n",
    "time_table.show(20)"
   ]
  },
  {
   "cell_type": "code",
   "execution_count": 54,
   "metadata": {
    "editable": true
   },
   "outputs": [],
   "source": [
    "# create a new view table to use SQL\n",
    "time_table.createOrReplaceTempView(\"time_table\")"
   ]
  },
  {
   "cell_type": "code",
   "execution_count": 55,
   "metadata": {
    "editable": true
   },
   "outputs": [
    {
     "name": "stdout",
     "output_type": "stream",
     "text": [
      "+----+--------+\n",
      "|hour|sessions|\n",
      "+----+--------+\n",
      "|   0|     155|\n",
      "|   1|     154|\n",
      "|   2|     117|\n",
      "|   3|     109|\n",
      "|   4|     135|\n",
      "|   5|     162|\n",
      "|   6|     183|\n",
      "|   7|     179|\n",
      "|   8|     207|\n",
      "|   9|     270|\n",
      "|  10|     312|\n",
      "|  11|     336|\n",
      "|  12|     308|\n",
      "|  13|     324|\n",
      "|  14|     430|\n",
      "|  15|     477|\n",
      "|  16|     541|\n",
      "|  17|     493|\n",
      "|  18|     497|\n",
      "|  19|     366|\n",
      "|  20|     360|\n",
      "|  21|     280|\n",
      "|  22|     217|\n",
      "|  23|     201|\n",
      "+----+--------+\n",
      "\n"
     ]
    }
   ],
   "source": [
    "table = spark.sql(\"\"\"\n",
    "    SELECT hour, COUNT(*) AS sessions\n",
    "    FROM time_table\n",
    "    GROUP BY hour\n",
    "    ORDER BY hour\n",
    "\"\"\")\n",
    "\n",
    "table.show(24)"
   ]
  },
  {
   "cell_type": "code",
   "execution_count": 56,
   "metadata": {
    "editable": true
   },
   "outputs": [],
   "source": [
    "# save data frame in parquet format and partition it by year and month\n",
    "time_table.write.mode('overwrite').partitionBy(\"year\", \"month\").parquet(\"data/parquet/time_table\")"
   ]
  },
  {
   "cell_type": "code",
   "execution_count": 64,
   "metadata": {
    "editable": true
   },
   "outputs": [],
   "source": [
    "df_song_small = df_song.select(\"num_songs\", \"title\", \"artist_id\", \"duration\", \"artist_name\", \"song_id\")"
   ]
  },
  {
   "cell_type": "code",
   "execution_count": 65,
   "metadata": {
    "editable": true
   },
   "outputs": [
    {
     "name": "stdout",
     "output_type": "stream",
     "text": [
      "+---------+--------------------+------------------+---------+--------------------+------------------+\n",
      "|num_songs|               title|         artist_id| duration|         artist_name|           song_id|\n",
      "+---------+--------------------+------------------+---------+--------------------+------------------+\n",
      "|        1|Sono andati? Fing...|ARDR4AC1187FB371A1|511.16363|Montserrat Caball...|SOBAYLL12A8C138AF9|\n",
      "|        1|Laws Patrolling (...|AREBBGV1187FB523D2|173.66159|Mike Jones (Featu...|SOOLYAZ12A6701F4A6|\n",
      "|        1|Setting Fire to S...|ARMAC4T1187FB3FA4C|207.77751|The Dillinger Esc...|SOBBUGU12A8C13E95D|\n",
      "|        1|I Hold Your Hand ...|ARPBNLO1187FB3D52F| 43.36281|            Tiny Tim|SOAOIBZ12AB01815BE|\n",
      "|        1|I Think My Wife I...|ARDNS031187B9924F0|186.48771|          Tim Wilson|SONYPOM12A8C13B2D7|\n",
      "|        1|The Ballad Of Sle...|ARNF6401187FB57032|  305.162|   Sophie B. Hawkins|SONWXQJ12A8C134D94|\n",
      "|        1|A Whiter Shade Of...|ARLTWXK1187FB5A3F8|326.00771|         King Curtis|SODREIN12A58A7F2E5|\n",
      "|        1|Streets On Fire (...|ARPFHN61187FB575F6|279.97995|         Lupe Fiasco|SOWQTQZ12A58A7B63E|\n",
      "|        1|Wessex Loses a Bride|ARI2JSK1187FB496EF|111.62077|Nick Ingman;Gavyn...|SODUJBS12A8C132150|\n",
      "|        1|It Makes No Diffe...|AR0RCMP1187FB3F427|133.32853|    Billie Jo Spears|SOGXHEG12AB018653E|\n",
      "|        1|      Spanish Grease|AROUOZZ1187B9ABE51|168.25424|         Willie Bobo|SOBZBAZ12A6D4F8742|\n",
      "|        1|     Baby Come To Me|AR9AWNF1187B9AB0B4|236.93016|Kenny G featuring...|SOZHPGD12A8C1394FE|\n",
      "|        1|James (Hold The L...|AR47JEX1187B995D81|124.86485|        SUE THOMPSON|SOBLGCN12AB0183212|\n",
      "|        1|The Moon And I (O...|ARKFYS91187B98E58F| 267.7024|Jeff And Sheri Ea...|SOYMRWW12A6D4FAB14|\n",
      "|        1|        Drop of Rain|AR10USD1187B99F3F1|189.57016|Tweeterfriendly M...|SOHKNRJ12A6701D1F8|\n",
      "|        1|Do You Finally Ne...|ARB29H41187B98F0EF|342.56934|       Terry Callier|SOGNCJP12A58A80271|\n",
      "|        1|Broken-Down Merry...|ARQGYP71187FB44566|151.84934|        Jimmy Wakely|SOWTBJW12AC468AC6E|\n",
      "|        1|It Wont Be Christmas|ARMBR4Y1187B9990EB|241.47546|        David Martin|SOTTDKS12AB018D69B|\n",
      "|        1|A Higher Place (A...|ARBEBBY1187B9B43DB|236.17261|           Tom Petty|SOFFKZS12AB017F194|\n",
      "|        1|Wild Rose (Back 2...|AR36F9J1187FB406F1|230.71302|      Bombay Rockers|SOBKWDJ12A8C13B2F3|\n",
      "+---------+--------------------+------------------+---------+--------------------+------------------+\n",
      "only showing top 20 rows\n",
      "\n"
     ]
    }
   ],
   "source": [
    "df_song_small.show()"
   ]
  },
  {
   "cell_type": "code",
   "execution_count": 66,
   "metadata": {
    "editable": true
   },
   "outputs": [],
   "source": [
    "# join df_join and df_song data frames and use it to create songplays_table\n",
    "df_join = df_log.join(df_song_small, df_log.song == df_song_small.title)"
   ]
  },
  {
   "cell_type": "code",
   "execution_count": 67,
   "metadata": {
    "editable": true
   },
   "outputs": [
    {
     "data": {
      "text/plain": [
       "[Row(artist='Elena', auth='Logged In', firstName='Lily', gender='F', itemInSession=5, lastName='Koch', length='269.58322', level='paid', location='Chicago-Naperville-Elgin, IL-IN-WI', method='PUT', page='NextSong', registration='1.541048010796E12', sessionId=818, song='Setanta matins', status='200', ts=1542837407796.0, userAgent='\"Mozilla/5.0 (X11; Linux x86_64) AppleWebKit/537.36 (KHTML, like Gecko) Ubuntu Chromium/36.0.1985.125 Chrome/36.0.1985.125 Safari/537.36\"', userId='15', timestamp=datetime.datetime(2018, 11, 21, 21, 56, 47, 796000), start_time='21:56:47', hour=21, day=21, week=47, month=11, year=2018, weekday='Wed', num_songs=1, title='Setanta matins', artist_id='AR5KOSW1187FB35FF4', duration=269.58322, artist_name='Elena', song_id='SOZCTXZ12AB0182364')]"
      ]
     },
     "execution_count": 67,
     "metadata": {},
     "output_type": "execute_result"
    }
   ],
   "source": [
    "# display first row\n",
    "df_join.take(1)"
   ]
  },
  {
   "cell_type": "code",
   "execution_count": 68,
   "metadata": {
    "editable": true
   },
   "outputs": [],
   "source": [
    "# create songplays_table data frame\n",
    "songplays_table = df_join.select(\"start_time\",\n",
    "                                 \"userId\",\n",
    "                                 \"level\",\n",
    "                                 \"song_id\",\n",
    "                                 \"artist_id\",\n",
    "                                 \"sessionId\",\n",
    "                                 \"location\",\n",
    "                                 \"userAgent\",\n",
    "                                 \"year\",\n",
    "                                 \"month\").distinct()"
   ]
  },
  {
   "cell_type": "code",
   "execution_count": 69,
   "metadata": {
    "editable": true
   },
   "outputs": [
    {
     "data": {
      "text/plain": [
       "[Row(start_time='05:06:03', userId='10', level='free', song_id='SOGDBUF12A8C140FAA', artist_id='AR558FS1187FB45658', sessionId=484, location='Washington-Arlington-Alexandria, DC-VA-MD-WV', userAgent='\"Mozilla/5.0 (Macintosh; Intel Mac OS X 10_9_4) AppleWebKit/537.77.4 (KHTML, like Gecko) Version/7.0.5 Safari/537.77.4\"', year=2018, month=11)]"
      ]
     },
     "execution_count": 69,
     "metadata": {},
     "output_type": "execute_result"
    }
   ],
   "source": [
    "# display frist row\n",
    "songplays_table.take(1)"
   ]
  },
  {
   "cell_type": "code",
   "execution_count": 70,
   "metadata": {
    "editable": true
   },
   "outputs": [],
   "source": [
    "# create songplay_id column with unique id\n",
    "songplays_table = songplays_table.withColumn(\"songplay_id\", monotonically_increasing_id())"
   ]
  },
  {
   "cell_type": "code",
   "execution_count": 71,
   "metadata": {
    "editable": true
   },
   "outputs": [
    {
     "name": "stdout",
     "output_type": "stream",
     "text": [
      "+----------+------+-----+------------------+------------------+---------+--------------------+--------------------+----+-----+-------------+\n",
      "|start_time|userId|level|           song_id|         artist_id|sessionId|            location|           userAgent|year|month|  songplay_id|\n",
      "+----------+------+-----+------------------+------------------+---------+--------------------+--------------------+----+-----+-------------+\n",
      "|  05:06:03|    10| free|SOGDBUF12A8C140FAA|AR558FS1187FB45658|      484|Washington-Arling...|\"Mozilla/5.0 (Mac...|2018|   11| 489626271744|\n",
      "|  09:14:20|    24| paid|SOGDBUF12A8C140FAA|AR558FS1187FB45658|      672|Lake Havasu City-...|\"Mozilla/5.0 (Win...|2018|   11|1374389534720|\n",
      "|  21:56:47|    15| paid|SOZCTXZ12AB0182364|AR5KOSW1187FB35FF4|      818|Chicago-Napervill...|\"Mozilla/5.0 (X11...|2018|   11|1417339207680|\n",
      "|  22:35:59|    80| paid|SOGDBUF12A8C140FAA|AR558FS1187FB45658|      992|Portland-South Po...|\"Mozilla/5.0 (Mac...|2018|   11|1709396983808|\n",
      "+----------+------+-----+------------------+------------------+---------+--------------------+--------------------+----+-----+-------------+\n",
      "\n"
     ]
    }
   ],
   "source": [
    "# display songplays_table data frame as a table\n",
    "songplays_table.show()"
   ]
  },
  {
   "cell_type": "code",
   "execution_count": 72,
   "metadata": {
    "editable": true
   },
   "outputs": [],
   "source": [
    "# rearrange songplays_table data frame\n",
    "songplays_table = songplays_table.select(\"songplay_id\",\n",
    "                                         \"start_time\",\n",
    "                                         \"userId\",\n",
    "                                         \"level\",\n",
    "                                         \"song_id\",\n",
    "                                         \"artist_id\",\n",
    "                                         \"sessionId\",\n",
    "                                         \"location\",\n",
    "                                         \"userAgent\",\n",
    "                                         \"year\",\n",
    "                                         \"month\") "
   ]
  },
  {
   "cell_type": "code",
   "execution_count": 73,
   "metadata": {
    "editable": true
   },
   "outputs": [
    {
     "data": {
      "text/plain": [
       "[Row(songplay_id=489626271744, start_time='05:06:03', userId='10', level='free', song_id='SOGDBUF12A8C140FAA', artist_id='AR558FS1187FB45658', sessionId=484, location='Washington-Arlington-Alexandria, DC-VA-MD-WV', userAgent='\"Mozilla/5.0 (Macintosh; Intel Mac OS X 10_9_4) AppleWebKit/537.77.4 (KHTML, like Gecko) Version/7.0.5 Safari/537.77.4\"', year=2018, month=11)]"
      ]
     },
     "execution_count": 73,
     "metadata": {},
     "output_type": "execute_result"
    }
   ],
   "source": [
    "# display first row of songplays_table data frame\n",
    "songplays_table.take(1)"
   ]
  },
  {
   "cell_type": "code",
   "execution_count": 74,
   "metadata": {
    "editable": true
   },
   "outputs": [],
   "source": [
    "# save songplays_table data frame in parquet format\n",
    "songplays_table.write.mode('overwrite').partitionBy(\"year\", \"month\").parquet(\"data/parquet/songplays_table/\")"
   ]
  },
  {
   "cell_type": "markdown",
   "metadata": {
    "editable": true
   },
   "source": [
    "### Testing the pipleline with AWS S3 "
   ]
  },
  {
   "cell_type": "markdown",
   "metadata": {
    "editable": true
   },
   "source": [
    "#### to run this section you would need to restart kernel"
   ]
  },
  {
   "cell_type": "code",
   "execution_count": 1,
   "metadata": {
    "editable": true
   },
   "outputs": [],
   "source": [
    "# load all libraries\n",
    "import configparser\n",
    "from datetime import datetime\n",
    "import os\n",
    "from pyspark.sql import SparkSession\n",
    "from pyspark.sql.functions import udf, col\n",
    "from pyspark.sql.functions import year, month, dayofmonth, hour, weekofyear, date_format\n",
    "from pyspark.sql.types import *\n",
    "from pyspark.sql.functions import monotonically_increasing_id"
   ]
  },
  {
   "cell_type": "code",
   "execution_count": 2,
   "metadata": {
    "editable": true
   },
   "outputs": [
    {
     "data": {
      "text/plain": [
       "['dl.cfg']"
      ]
     },
     "execution_count": 2,
     "metadata": {},
     "output_type": "execute_result"
    }
   ],
   "source": [
    "config = configparser.ConfigParser()\n",
    "config.read('dl.cfg')"
   ]
  },
  {
   "cell_type": "code",
   "execution_count": 3,
   "metadata": {
    "editable": true
   },
   "outputs": [],
   "source": [
    "os.environ['AWS_ACCESS_KEY_ID']=config['AWS CREDS']['AWS_ACCESS_KEY_ID']\n",
    "os.environ['AWS_SECRET_ACCESS_KEY']=config['AWS CREDS']['AWS_SECRET_ACCESS_KEY']"
   ]
  },
  {
   "cell_type": "code",
   "execution_count": 4,
   "metadata": {
    "editable": true
   },
   "outputs": [],
   "source": [
    "input_data = \"s3a://udacity-dend/\"\n",
    "output_data = \"s3a://udacity-data-engineering-stan/data\""
   ]
  },
  {
   "cell_type": "code",
   "execution_count": 12,
   "metadata": {
    "editable": true
   },
   "outputs": [],
   "source": [
    "# create spark session\n",
    "\n",
    "spark = SparkSession \\\n",
    "    .builder \\\n",
    "    .config(\"spark.jars.packages\", \"org.apache.hadoop:hadoop-aws:2.7.0\") \\\n",
    "    .config(\"spark.hadoop.fs.s3a.impl\",\"org.apache.hadoop.fs.s3a.S3AFileSystem\") \\\n",
    "    .config(\"spark.hadoop.fs.s3a.awsAccessKeyId\", os.environ['AWS_ACCESS_KEY_ID']) \\\n",
    "    .config(\"spark.hadoop.fs.s3a.awsSecretAccessKey\", os.environ['AWS_SECRET_ACCESS_KEY']) \\\n",
    "    .getOrCreate()\n",
    "\n",
    "sc = spark.sparkContext\n",
    "sc._jsc.hadoopConfiguration().set(\"mapreduce.fileoutputcommitter.algorithm.version\", \"2\")\n",
    "sc._jsc.hadoopConfiguration().set(\"spark.speculation\",\"false\")"
   ]
  },
  {
   "cell_type": "code",
   "execution_count": 13,
   "metadata": {
    "editable": true
   },
   "outputs": [
    {
     "data": {
      "text/html": [
       "\n",
       "            <div>\n",
       "                <p><b>SparkSession - in-memory</b></p>\n",
       "                \n",
       "        <div>\n",
       "            <p><b>SparkContext</b></p>\n",
       "\n",
       "            <p><a href=\"http://c61f217aef4a:4040\">Spark UI</a></p>\n",
       "\n",
       "            <dl>\n",
       "              <dt>Version</dt>\n",
       "                <dd><code>v2.4.3</code></dd>\n",
       "              <dt>Master</dt>\n",
       "                <dd><code>local[*]</code></dd>\n",
       "              <dt>AppName</dt>\n",
       "                <dd><code>pyspark-shell</code></dd>\n",
       "            </dl>\n",
       "        </div>\n",
       "        \n",
       "            </div>\n",
       "        "
      ],
      "text/plain": [
       "<pyspark.sql.session.SparkSession at 0x7fa9f808da20>"
      ]
     },
     "execution_count": 13,
     "metadata": {},
     "output_type": "execute_result"
    }
   ],
   "source": [
    "spark"
   ]
  },
  {
   "cell_type": "code",
   "execution_count": 9,
   "metadata": {
    "editable": true
   },
   "outputs": [],
   "source": [
    "schema =  StructType([\n",
    "                        StructField(\"num_songs\", ShortType(), True),\n",
    "                        StructField(\"artist_latitude\", StringType(), True),\n",
    "                        StructField(\"artist_location\", StringType(), True),\n",
    "                        StructField(\"artist_longitude\", StringType(), True),\n",
    "                        StructField(\"artist_name\", StringType(), True),\n",
    "                        StructField(\"song_id\", StringType(), False),\n",
    "                        StructField(\"title\", StringType(), True),\n",
    "                        StructField(\"artist_id\", StringType(), False),\n",
    "                        StructField(\"year\", ShortType(), True),\n",
    "                        StructField(\"duration\", DoubleType(), True)\n",
    "                    ])\n",
    "\n",
    "df_song_data = spark.read.schema(schema).json(\"s3a://udacity-dend/song_data/A/A/*/*.json\")"
   ]
  },
  {
   "cell_type": "code",
   "execution_count": null,
   "metadata": {
    "editable": true
   },
   "outputs": [],
   "source": [
    "df_song_data.write.mode('overwrite').partitionBy(\"year\", \"artist_id\").parquet(output_data + \"/songs_data/\")"
   ]
  },
  {
   "cell_type": "code",
   "execution_count": null,
   "metadata": {
    "editable": true
   },
   "outputs": [],
   "source": [
    "songs_table = df_song.select(\"song_id\", \"title\", \"artist_id\", \"year\", \"duration\")"
   ]
  },
  {
   "cell_type": "code",
   "execution_count": null,
   "metadata": {
    "editable": true
   },
   "outputs": [],
   "source": [
    "songs_table.write.mode('overwrite').partitionBy(\"year\", \"artist_id\").parquet(output_data + \"/songs_table/\")"
   ]
  }
 ],
 "metadata": {
  "kernelspec": {
   "display_name": "Python 3",
   "language": "python",
   "name": "python3"
  },
  "language_info": {
   "codemirror_mode": {
    "name": "ipython",
    "version": 3
   },
   "file_extension": ".py",
   "mimetype": "text/x-python",
   "name": "python",
   "nbconvert_exporter": "python",
   "pygments_lexer": "ipython3",
   "version": "3.6.3"
  }
 },
 "nbformat": 4,
 "nbformat_minor": 4
}
